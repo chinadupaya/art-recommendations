{
 "cells": [
  {
   "cell_type": "code",
   "execution_count": 12,
   "metadata": {},
   "outputs": [],
   "source": [
    "import time\n",
    "\n",
    "notebook_start_time = time.time()"
   ]
  },
  {
   "cell_type": "markdown",
   "metadata": {},
   "source": [
    "# Set up environment"
   ]
  },
  {
   "cell_type": "code",
   "execution_count": 14,
   "metadata": {},
   "outputs": [
    {
     "name": "stdout",
     "output_type": "stream",
     "text": [
      "⛳️ Local environment\n"
     ]
    }
   ],
   "source": [
    "import sys\n",
    "from pathlib import Path\n",
    "\n",
    "\n",
    "def is_google_colab() -> bool:\n",
    "    if \"google.colab\" in str(get_ipython()):\n",
    "        return True\n",
    "    return False\n",
    "\n",
    "\n",
    "def clone_repository() -> None:\n",
    "    !git clone https://github.com/chinadupaya/art-recommendations.git\n",
    "    %cd art-recommendations/\n",
    "\n",
    "\n",
    "def install_dependencies() -> None:\n",
    "    !pip install --upgrade uv\n",
    "    !uv pip install --all-extras --system --requirement pyproject.toml\n",
    "\n",
    "\n",
    "if is_google_colab():\n",
    "    clone_repository()\n",
    "    install_dependencies()\n",
    "\n",
    "    root_dir = str(Path().absolute())\n",
    "    print(\"⛳️ Google Colab environment\")\n",
    "else:\n",
    "    root_dir = str(Path().absolute().parent)\n",
    "    print(\"⛳️ Local environment\")\n",
    "\n",
    "# Add the root directory to the `PYTHONPATH` to use the `recsys` Python module from the notebook.\n",
    "if root_dir not in sys.path:\n",
    "    print(f\"Adding the following directory to the PYTHONPATH: {root_dir}\")\n",
    "    sys.path.append(root_dir)"
   ]
  },
  {
   "cell_type": "markdown",
   "metadata": {},
   "source": [
    "# 👩🏻‍🔬 Feature pipeline: Computing features"
   ]
  },
  {
   "cell_type": "markdown",
   "metadata": {},
   "source": [
    "# Imports"
   ]
  },
  {
   "cell_type": "code",
   "execution_count": 41,
   "metadata": {},
   "outputs": [
    {
     "name": "stdout",
     "output_type": "stream",
     "text": [
      "The autoreload extension is already loaded. To reload it, use:\n",
      "  %reload_ext autoreload\n"
     ]
    }
   ],
   "source": [
    "%load_ext autoreload\n",
    "%autoreload 2\n",
    "# %reload_ext autoreload\n",
    "\n",
    "import warnings\n",
    "from pprint import pprint\n",
    "\n",
    "import polars as pl\n",
    "import torch\n",
    "from loguru import logger\n",
    "from sentence_transformers import SentenceTransformer\n",
    "\n",
    "warnings.filterwarnings(\"ignore\")\n",
    "\n",
    "from recsys import hopsworks_integration\n",
    "from recsys.config import settings\n",
    "from recsys.features.artworks import (\n",
    "    compute_features_artworks,\n",
    "    generate_embeddings_for_dataframe,\n",
    ")\n",
    "from recsys.features.users import DatasetSampler, compute_features_users\n",
    "from recsys.features.interaction import generate_interaction_data\n",
    "# from recsys.features.ranking import compute_ranking_dataset\n",
    "from recsys.features.transactions import compute_features_transactions\n",
    "# from recsys.hopsworks_integration import feature_store\n",
    "# from recsys.raw_data_sources import h_and_m as h_and_m_raw_data"
   ]
  },
  {
   "cell_type": "markdown",
   "metadata": {},
   "source": [
    "# Constants\n",
    "\n",
    "The most important one is the dataset size.\n",
    "\n",
    "Choosing a different dataset size will impact the time it takes to run everything and the quality of the final models. We suggest using a small dataset size when running this the first time.\n",
    "\n",
    "Suported user dataset sizes:"
   ]
  },
  {
   "cell_type": "code",
   "execution_count": 16,
   "metadata": {},
   "outputs": [
    {
     "data": {
      "text/plain": [
       "{<UserDatasetSize.LARGE: 'LARGE'>: 50000,\n",
       " <UserDatasetSize.MEDIUM: 'MEDIUM'>: 5000,\n",
       " <UserDatasetSize.SMALL: 'SMALL'>: 1000}"
      ]
     },
     "execution_count": 16,
     "metadata": {},
     "output_type": "execute_result"
    }
   ],
   "source": [
    "DatasetSampler.get_supported_sizes()"
   ]
  },
  {
   "cell_type": "markdown",
   "metadata": {},
   "source": [
    "## <span style=\"color:#ff5f27\">🔮 Connect to Hopsworks Feature Store </span>"
   ]
  },
  {
   "cell_type": "code",
   "execution_count": 17,
   "metadata": {},
   "outputs": [
    {
     "name": "stderr",
     "output_type": "stream",
     "text": [
      "\u001b[32m2024-12-22 11:45:56.006\u001b[0m | \u001b[1mINFO    \u001b[0m | \u001b[36mrecsys.hopsworks_integration.feature_store\u001b[0m:\u001b[36mget_feature_store\u001b[0m:\u001b[36m15\u001b[0m - \u001b[1mLoging to Hopsworks using HOPSWORKS_API_KEY env var.\u001b[0m\n"
     ]
    },
    {
     "name": "stdout",
     "output_type": "stream",
     "text": [
      "2024-12-22 11:45:56,007 INFO: Initializing external client\n",
      "2024-12-22 11:45:56,008 INFO: Base URL: https://c.app.hopsworks.ai:443\n",
      "2024-12-22 11:45:58,503 INFO: Python Engine initialized.\n",
      "\n",
      "Logged in to project, explore it here https://c.app.hopsworks.ai:443/p/1197208\n"
     ]
    }
   ],
   "source": [
    "project, fs = hopsworks_integration.get_feature_store()"
   ]
  },
  {
   "cell_type": "code",
   "execution_count": 18,
   "metadata": {},
   "outputs": [
    {
     "data": {
      "text/plain": [
       "(18538, 8)"
      ]
     },
     "execution_count": 18,
     "metadata": {},
     "output_type": "execute_result"
    }
   ],
   "source": [
    "artworks_df =  pl.read_csv(\"../data/artworks_info.csv\")\n",
    "artworks_df.shape"
   ]
  },
  {
   "cell_type": "markdown",
   "metadata": {},
   "source": [
    "The artworks DataFrame looks as follows"
   ]
  },
  {
   "cell_type": "code",
   "execution_count": 19,
   "metadata": {},
   "outputs": [
    {
     "data": {
      "text/html": [
       "<div><style>\n",
       ".dataframe > thead > tr,\n",
       ".dataframe > tbody > tr {\n",
       "  text-align: right;\n",
       "  white-space: pre-wrap;\n",
       "}\n",
       "</style>\n",
       "<small>shape: (3, 8)</small><table border=\"1\" class=\"dataframe\"><thead><tr><th>id</th><th>title</th><th>category</th><th>thumbnail_link</th><th>artists_link</th><th>genes_link</th><th>similar_link</th><th>description</th></tr><tr><td>str</td><td>str</td><td>str</td><td>str</td><td>str</td><td>str</td><td>str</td><td>str</td></tr></thead><tbody><tr><td>&quot;4d8b92eb4eb68a1b2c000968&quot;</td><td>&quot;Der Kuss (The Kiss)&quot;</td><td>&quot;Painting&quot;</td><td>&quot;https://d32dm0rphc51dk.cloudfr…</td><td>&quot;https://api.artsy.net/api/arti…</td><td>&quot;https://api.artsy.net/api/gene…</td><td>&quot;https://api.artsy.net/api/artw…</td><td>&quot;The image is rich in golds and…</td></tr><tr><td>&quot;4d8b92ee4eb68a1b2c0009ab&quot;</td><td>&quot;The Third of May&quot;</td><td>&quot;Painting&quot;</td><td>&quot;https://d32dm0rphc51dk.cloudfr…</td><td>&quot;https://api.artsy.net/api/arti…</td><td>&quot;https://api.artsy.net/api/gene…</td><td>&quot;https://api.artsy.net/api/artw…</td><td>&quot;The image features a somber pa…</td></tr><tr><td>&quot;4d8b93394eb68a1b2c0010fa&quot;</td><td>&quot;The Company of Frans Banning C…</td><td>&quot;Painting&quot;</td><td>&quot;https://d32dm0rphc51dk.cloudfr…</td><td>&quot;https://api.artsy.net/api/arti…</td><td>&quot;https://api.artsy.net/api/gene…</td><td>&quot;https://api.artsy.net/api/artw…</td><td>&quot;The image features a rich pale…</td></tr></tbody></table></div>"
      ],
      "text/plain": [
       "shape: (3, 8)\n",
       "┌────────────┬────────────┬──────────┬────────────┬────────────┬───────────┬───────────┬───────────┐\n",
       "│ id         ┆ title      ┆ category ┆ thumbnail_ ┆ artists_li ┆ genes_lin ┆ similar_l ┆ descripti │\n",
       "│ ---        ┆ ---        ┆ ---      ┆ link       ┆ nk         ┆ k         ┆ ink       ┆ on        │\n",
       "│ str        ┆ str        ┆ str      ┆ ---        ┆ ---        ┆ ---       ┆ ---       ┆ ---       │\n",
       "│            ┆            ┆          ┆ str        ┆ str        ┆ str       ┆ str       ┆ str       │\n",
       "╞════════════╪════════════╪══════════╪════════════╪════════════╪═══════════╪═══════════╪═══════════╡\n",
       "│ 4d8b92eb4e ┆ Der Kuss   ┆ Painting ┆ https://d3 ┆ https://ap ┆ https://a ┆ https://a ┆ The image │\n",
       "│ b68a1b2c00 ┆ (The Kiss) ┆          ┆ 2dm0rphc51 ┆ i.artsy.ne ┆ pi.artsy. ┆ pi.artsy. ┆ is rich   │\n",
       "│ 0968       ┆            ┆          ┆ dk.cloudfr ┆ t/api/arti ┆ net/api/g ┆ net/api/a ┆ in golds  │\n",
       "│            ┆            ┆          ┆ …          ┆ …          ┆ ene…      ┆ rtw…      ┆ and…      │\n",
       "│ 4d8b92ee4e ┆ The Third  ┆ Painting ┆ https://d3 ┆ https://ap ┆ https://a ┆ https://a ┆ The image │\n",
       "│ b68a1b2c00 ┆ of May     ┆          ┆ 2dm0rphc51 ┆ i.artsy.ne ┆ pi.artsy. ┆ pi.artsy. ┆ features  │\n",
       "│ 09ab       ┆            ┆          ┆ dk.cloudfr ┆ t/api/arti ┆ net/api/g ┆ net/api/a ┆ a somber  │\n",
       "│            ┆            ┆          ┆ …          ┆ …          ┆ ene…      ┆ rtw…      ┆ pa…       │\n",
       "│ 4d8b93394e ┆ The        ┆ Painting ┆ https://d3 ┆ https://ap ┆ https://a ┆ https://a ┆ The image │\n",
       "│ b68a1b2c00 ┆ Company of ┆          ┆ 2dm0rphc51 ┆ i.artsy.ne ┆ pi.artsy. ┆ pi.artsy. ┆ features  │\n",
       "│ 10fa       ┆ Frans      ┆          ┆ dk.cloudfr ┆ t/api/arti ┆ net/api/g ┆ net/api/a ┆ a rich    │\n",
       "│            ┆ Banning C… ┆          ┆ …          ┆ …          ┆ ene…      ┆ rtw…      ┆ pale…     │\n",
       "└────────────┴────────────┴──────────┴────────────┴────────────┴───────────┴───────────┴───────────┘"
      ]
     },
     "execution_count": 19,
     "metadata": {},
     "output_type": "execute_result"
    }
   ],
   "source": [
    "artworks_df.head(3)"
   ]
  },
  {
   "cell_type": "code",
   "execution_count": 20,
   "metadata": {},
   "outputs": [
    {
     "data": {
      "text/html": [
       "<div><style>\n",
       ".dataframe > thead > tr,\n",
       ".dataframe > tbody > tr {\n",
       "  text-align: right;\n",
       "  white-space: pre-wrap;\n",
       "}\n",
       "</style>\n",
       "<small>shape: (1, 8)</small><table border=\"1\" class=\"dataframe\"><thead><tr><th>id</th><th>title</th><th>category</th><th>thumbnail_link</th><th>artists_link</th><th>genes_link</th><th>similar_link</th><th>description</th></tr><tr><td>u32</td><td>u32</td><td>u32</td><td>u32</td><td>u32</td><td>u32</td><td>u32</td><td>u32</td></tr></thead><tbody><tr><td>0</td><td>0</td><td>0</td><td>0</td><td>0</td><td>0</td><td>0</td><td>0</td></tr></tbody></table></div>"
      ],
      "text/plain": [
       "shape: (1, 8)\n",
       "┌─────┬───────┬──────────┬────────────────┬──────────────┬────────────┬──────────────┬─────────────┐\n",
       "│ id  ┆ title ┆ category ┆ thumbnail_link ┆ artists_link ┆ genes_link ┆ similar_link ┆ description │\n",
       "│ --- ┆ ---   ┆ ---      ┆ ---            ┆ ---          ┆ ---        ┆ ---          ┆ ---         │\n",
       "│ u32 ┆ u32   ┆ u32      ┆ u32            ┆ u32          ┆ u32        ┆ u32          ┆ u32         │\n",
       "╞═════╪═══════╪══════════╪════════════════╪══════════════╪════════════╪══════════════╪═════════════╡\n",
       "│ 0   ┆ 0     ┆ 0        ┆ 0              ┆ 0            ┆ 0          ┆ 0            ┆ 0           │\n",
       "└─────┴───────┴──────────┴────────────────┴──────────────┴────────────┴──────────────┴─────────────┘"
      ]
     },
     "execution_count": 20,
     "metadata": {},
     "output_type": "execute_result"
    }
   ],
   "source": [
    "artworks_df.null_count()"
   ]
  },
  {
   "cell_type": "markdown",
   "metadata": {},
   "source": [
    "## Artworks Feature Engineering"
   ]
  },
  {
   "cell_type": "code",
   "execution_count": 21,
   "metadata": {},
   "outputs": [
    {
     "data": {
      "text/plain": [
       "(18538, 5)"
      ]
     },
     "execution_count": 21,
     "metadata": {},
     "output_type": "execute_result"
    }
   ],
   "source": [
    "artworks_df = compute_features_artworks(artworks_df)\n",
    "artworks_df.shape\n"
   ]
  },
  {
   "cell_type": "code",
   "execution_count": 22,
   "metadata": {},
   "outputs": [
    {
     "data": {
      "text/html": [
       "<div><style>\n",
       ".dataframe > thead > tr,\n",
       ".dataframe > tbody > tr {\n",
       "  text-align: right;\n",
       "  white-space: pre-wrap;\n",
       "}\n",
       "</style>\n",
       "<small>shape: (5, 5)</small><table border=\"1\" class=\"dataframe\"><thead><tr><th>id</th><th>title</th><th>category</th><th>thumbnail_link</th><th>description</th></tr><tr><td>str</td><td>str</td><td>str</td><td>str</td><td>str</td></tr></thead><tbody><tr><td>&quot;4d8b92eb4eb68a1b2c000968&quot;</td><td>&quot;Der Kuss (The Kiss)&quot;</td><td>&quot;Painting&quot;</td><td>&quot;https://d32dm0rphc51dk.cloudfr…</td><td>&quot;The image is rich in golds and…</td></tr><tr><td>&quot;4d8b92ee4eb68a1b2c0009ab&quot;</td><td>&quot;The Third of May&quot;</td><td>&quot;Painting&quot;</td><td>&quot;https://d32dm0rphc51dk.cloudfr…</td><td>&quot;The image features a somber pa…</td></tr><tr><td>&quot;4d8b93394eb68a1b2c0010fa&quot;</td><td>&quot;The Company of Frans Banning C…</td><td>&quot;Painting&quot;</td><td>&quot;https://d32dm0rphc51dk.cloudfr…</td><td>&quot;The image features a rich pale…</td></tr><tr><td>&quot;4d8b937c4eb68a1b2c001722&quot;</td><td>&quot;Mona Lisa&quot;</td><td>&quot;Painting&quot;</td><td>&quot;https://d32dm0rphc51dk.cloudfr…</td><td>&quot;The image is characterized by …</td></tr><tr><td>&quot;4d8b93b04eb68a1b2c001b9d&quot;</td><td>&quot;Luncheon on the Grass (Le Déje…</td><td>&quot;Painting&quot;</td><td>&quot;https://d32dm0rphc51dk.cloudfr…</td><td>&quot;The image features a palette o…</td></tr></tbody></table></div>"
      ],
      "text/plain": [
       "shape: (5, 5)\n",
       "┌─────────────────────┬─────────────────────┬──────────┬─────────────────────┬─────────────────────┐\n",
       "│ id                  ┆ title               ┆ category ┆ thumbnail_link      ┆ description         │\n",
       "│ ---                 ┆ ---                 ┆ ---      ┆ ---                 ┆ ---                 │\n",
       "│ str                 ┆ str                 ┆ str      ┆ str                 ┆ str                 │\n",
       "╞═════════════════════╪═════════════════════╪══════════╪═════════════════════╪═════════════════════╡\n",
       "│ 4d8b92eb4eb68a1b2c0 ┆ Der Kuss (The Kiss) ┆ Painting ┆ https://d32dm0rphc5 ┆ The image is rich   │\n",
       "│ 00968               ┆                     ┆          ┆ 1dk.cloudfr…        ┆ in golds and…       │\n",
       "│ 4d8b92ee4eb68a1b2c0 ┆ The Third of May    ┆ Painting ┆ https://d32dm0rphc5 ┆ The image features  │\n",
       "│ 009ab               ┆                     ┆          ┆ 1dk.cloudfr…        ┆ a somber pa…        │\n",
       "│ 4d8b93394eb68a1b2c0 ┆ The Company of      ┆ Painting ┆ https://d32dm0rphc5 ┆ The image features  │\n",
       "│ 010fa               ┆ Frans Banning C…    ┆          ┆ 1dk.cloudfr…        ┆ a rich pale…        │\n",
       "│ 4d8b937c4eb68a1b2c0 ┆ Mona Lisa           ┆ Painting ┆ https://d32dm0rphc5 ┆ The image is        │\n",
       "│ 01722               ┆                     ┆          ┆ 1dk.cloudfr…        ┆ characterized by …  │\n",
       "│ 4d8b93b04eb68a1b2c0 ┆ Luncheon on the     ┆ Painting ┆ https://d32dm0rphc5 ┆ The image features  │\n",
       "│ 01b9d               ┆ Grass (Le Déje…     ┆          ┆ 1dk.cloudfr…        ┆ a palette o…        │\n",
       "└─────────────────────┴─────────────────────┴──────────┴─────────────────────┴─────────────────────┘"
      ]
     },
     "execution_count": 22,
     "metadata": {},
     "output_type": "execute_result"
    }
   ],
   "source": [
    "artworks_df.head()"
   ]
  },
  {
   "cell_type": "markdown",
   "metadata": {},
   "source": [
    "### Create embeddings from the articles description"
   ]
  },
  {
   "cell_type": "code",
   "execution_count": 23,
   "metadata": {},
   "outputs": [
    {
     "name": "stderr",
     "output_type": "stream",
     "text": [
      "\u001b[32m2024-12-22 11:46:19.902\u001b[0m | \u001b[1mINFO    \u001b[0m | \u001b[36m__main__\u001b[0m:\u001b[36m<module>\u001b[0m:\u001b[36m2\u001b[0m - \u001b[1mItem 1:\n",
      "The image is rich in golds and soft pastels, creating a warm, harmonious atmosphere. The mood is intimate and tender, evoking feelings of love and closeness. The aesthetic features intricate patterns and floral motifs, reminiscent of the Art Nouveau style. Overall, it radiates a sense of tranquility and beauty.\u001b[0m\n",
      "\u001b[32m2024-12-22 11:46:19.903\u001b[0m | \u001b[1mINFO    \u001b[0m | \u001b[36m__main__\u001b[0m:\u001b[36m<module>\u001b[0m:\u001b[36m2\u001b[0m - \u001b[1mItem 2:\n",
      "The image features a somber palette dominated by dark tones and stark contrasts, highlighting the brutality of the scene. The mood conveys a sense of despair and urgency, evoking empathy for the victims. The dramatic lighting, particularly the lantern's glow, creates a tension between hope and tragedy. Overall, the aesthetic is visceral and haunting, capturing the raw emotion of human conflict.\u001b[0m\n",
      "\u001b[32m2024-12-22 11:46:19.903\u001b[0m | \u001b[1mINFO    \u001b[0m | \u001b[36m__main__\u001b[0m:\u001b[36m<module>\u001b[0m:\u001b[36m2\u001b[0m - \u001b[1mItem 3:\n",
      "The image features a rich palette of dark hues, contrasted by bright highlights, creating a dramatic tension. The mood is lively yet solemn, capturing a moment of camaraderie and duty. The aesthetic is baroque, characterized by intricate details and a dynamic composition that draws the viewer into the scene. The interplay of light and shadow enhances the sense of depth and narrative.\u001b[0m\n"
     ]
    }
   ],
   "source": [
    "for i, desc in enumerate(artworks_df[\"description\"].head(n=3)):\n",
    "    logger.info(f\"Item {i+1}:\\n{desc}\")"
   ]
  },
  {
   "cell_type": "code",
   "execution_count": 109,
   "metadata": {},
   "outputs": [
    {
     "name": "stderr",
     "output_type": "stream",
     "text": [
      "\u001b[32m2024-12-19 19:44:40.870\u001b[0m | \u001b[1mINFO    \u001b[0m | \u001b[36m__main__\u001b[0m:\u001b[36m<module>\u001b[0m:\u001b[36m8\u001b[0m - \u001b[1mLoading 'all-MiniLM-L6-v2' embedding model to device='mps'\u001b[0m\n"
     ]
    },
    {
     "name": "stdout",
     "output_type": "stream",
     "text": [
      "2024-12-19 19:44:40,871 INFO: Load pretrained SentenceTransformer: all-MiniLM-L6-v2\n"
     ]
    }
   ],
   "source": [
    "device = (\n",
    "    \"cuda\"\n",
    "    if torch.cuda.is_available()\n",
    "    else \"mps\"\n",
    "    if torch.backends.mps.is_available()\n",
    "    else \"cpu\"\n",
    ")\n",
    "logger.info(\n",
    "    f\"Loading '{settings.FEATURES_EMBEDDING_MODEL_ID}' embedding model to {device=}\"\n",
    ")\n",
    "\n",
    "# Load the embedding model from SentenceTransformer's model registry.\n",
    "model = SentenceTransformer(settings.FEATURES_EMBEDDING_MODEL_ID, device=device)"
   ]
  },
  {
   "cell_type": "code",
   "execution_count": 111,
   "metadata": {},
   "outputs": [
    {
     "name": "stderr",
     "output_type": "stream",
     "text": [
      "Generating embeddings: 100%|██████████| 1/1 [00:00<00:00,  6.43it/s]\n"
     ]
    },
    {
     "data": {
      "text/html": [
       "<div><style>\n",
       ".dataframe > thead > tr,\n",
       ".dataframe > tbody > tr {\n",
       "  text-align: right;\n",
       "  white-space: pre-wrap;\n",
       "}\n",
       "</style>\n",
       "<small>shape: (1,)</small><table border=\"1\" class=\"dataframe\"><thead><tr><th>embeddings</th></tr><tr><td>list[f64]</td></tr></thead><tbody><tr><td>[-0.008282, 0.030209, … -0.003906]</td></tr></tbody></table></div>"
      ],
      "text/plain": [
       "shape: (1,)\n",
       "Series: 'embeddings' [list[f64]]\n",
       "[\n",
       "\t[-0.008282, 0.030209, … -0.003906]\n",
       "]"
      ]
     },
     "execution_count": 111,
     "metadata": {},
     "output_type": "execute_result"
    }
   ],
   "source": [
    "embedding = generate_embeddings_for_dataframe(\n",
    "    artworks_df.head(1), \"description\", model, batch_size=128\n",
    ")['embeddings']\n",
    "embedding"
   ]
  },
  {
   "cell_type": "code",
   "execution_count": 112,
   "metadata": {},
   "outputs": [
    {
     "data": {
      "text/plain": [
       "polars.dataframe.frame.DataFrame"
      ]
     },
     "execution_count": 112,
     "metadata": {},
     "output_type": "execute_result"
    }
   ],
   "source": [
    "type(artworks_df)"
   ]
  },
  {
   "cell_type": "code",
   "execution_count": 113,
   "metadata": {},
   "outputs": [
    {
     "data": {
      "text/html": [
       "<div><style>\n",
       ".dataframe > thead > tr,\n",
       ".dataframe > tbody > tr {\n",
       "  text-align: right;\n",
       "  white-space: pre-wrap;\n",
       "}\n",
       "</style>\n",
       "<small>shape: (3, 6)</small><table border=\"1\" class=\"dataframe\"><thead><tr><th>id</th><th>title</th><th>category</th><th>thumbnail_link</th><th>description</th><th>embeddings</th></tr><tr><td>str</td><td>str</td><td>str</td><td>str</td><td>str</td><td>list[f64]</td></tr></thead><tbody><tr><td>&quot;4d8b92eb4eb68a1b2c000968&quot;</td><td>&quot;Der Kuss (The Kiss)&quot;</td><td>&quot;Painting&quot;</td><td>&quot;https://d32dm0rphc51dk.cloudfr…</td><td>&quot;The image is rich in golds and…</td><td>[-0.008282, 0.030209, … -0.003906]</td></tr><tr><td>&quot;4d8b92ee4eb68a1b2c0009ab&quot;</td><td>&quot;The Third of May&quot;</td><td>&quot;Painting&quot;</td><td>&quot;https://d32dm0rphc51dk.cloudfr…</td><td>&quot;The image features a somber pa…</td><td>[-0.008282, 0.030209, … -0.003906]</td></tr><tr><td>&quot;4d8b93394eb68a1b2c0010fa&quot;</td><td>&quot;The Company of Frans Banning C…</td><td>&quot;Painting&quot;</td><td>&quot;https://d32dm0rphc51dk.cloudfr…</td><td>&quot;The image features a rich pale…</td><td>[-0.008282, 0.030209, … -0.003906]</td></tr></tbody></table></div>"
      ],
      "text/plain": [
       "shape: (3, 6)\n",
       "┌──────────────────┬──────────────────┬──────────┬─────────────────┬─────────────────┬─────────────┐\n",
       "│ id               ┆ title            ┆ category ┆ thumbnail_link  ┆ description     ┆ embeddings  │\n",
       "│ ---              ┆ ---              ┆ ---      ┆ ---             ┆ ---             ┆ ---         │\n",
       "│ str              ┆ str              ┆ str      ┆ str             ┆ str             ┆ list[f64]   │\n",
       "╞══════════════════╪══════════════════╪══════════╪═════════════════╪═════════════════╪═════════════╡\n",
       "│ 4d8b92eb4eb68a1b ┆ Der Kuss (The    ┆ Painting ┆ https://d32dm0r ┆ The image is    ┆ [-0.008282, │\n",
       "│ 2c000968         ┆ Kiss)            ┆          ┆ phc51dk.cloudfr ┆ rich in golds   ┆ 0.030209, … │\n",
       "│                  ┆                  ┆          ┆ …               ┆ and…            ┆ -0.003…     │\n",
       "│ 4d8b92ee4eb68a1b ┆ The Third of May ┆ Painting ┆ https://d32dm0r ┆ The image       ┆ [-0.008282, │\n",
       "│ 2c0009ab         ┆                  ┆          ┆ phc51dk.cloudfr ┆ features a      ┆ 0.030209, … │\n",
       "│                  ┆                  ┆          ┆ …               ┆ somber pa…      ┆ -0.003…     │\n",
       "│ 4d8b93394eb68a1b ┆ The Company of   ┆ Painting ┆ https://d32dm0r ┆ The image       ┆ [-0.008282, │\n",
       "│ 2c0010fa         ┆ Frans Banning C… ┆          ┆ phc51dk.cloudfr ┆ features a rich ┆ 0.030209, … │\n",
       "│                  ┆                  ┆          ┆ …               ┆ pale…           ┆ -0.003…     │\n",
       "└──────────────────┴──────────────────┴──────────┴─────────────────┴─────────────────┴─────────────┘"
      ]
     },
     "execution_count": 113,
     "metadata": {},
     "output_type": "execute_result"
    }
   ],
   "source": [
    "artworks_df = artworks_df.with_columns(\n",
    "    pl.lit(embedding[0].to_list()).alias(\"embeddings\")\n",
    ")\n",
    "artworks_df.head(3)"
   ]
  },
  {
   "cell_type": "code",
   "execution_count": 115,
   "metadata": {},
   "outputs": [
    {
     "name": "stderr",
     "output_type": "stream",
     "text": [
      "Generating embeddings: 100%|██████████| 18538/18538 [01:41<00:00, 182.40it/s]\n"
     ]
    }
   ],
   "source": [
    "artworks_df = generate_embeddings_for_dataframe(\n",
    "    artworks_df, \"description\", model, batch_size=128\n",
    ")  # Reduce batch size if getting OOM errors."
   ]
  },
  {
   "cell_type": "markdown",
   "metadata": {},
   "source": [
    "For each artwork description, we have a numerical vector which we can feed to a model, opposite to a string containing the description of an object."
   ]
  },
  {
   "cell_type": "code",
   "execution_count": 116,
   "metadata": {},
   "outputs": [
    {
     "data": {
      "text/html": [
       "<div><style>\n",
       ".dataframe > thead > tr,\n",
       ".dataframe > tbody > tr {\n",
       "  text-align: right;\n",
       "  white-space: pre-wrap;\n",
       "}\n",
       "</style>\n",
       "<small>shape: (3, 2)</small><table border=\"1\" class=\"dataframe\"><thead><tr><th>description</th><th>embeddings</th></tr><tr><td>str</td><td>list[f64]</td></tr></thead><tbody><tr><td>&quot;The image is rich in golds and…</td><td>[-0.008282, 0.030209, … -0.003906]</td></tr><tr><td>&quot;The image features a somber pa…</td><td>[0.058479, 0.083046, … 0.008479]</td></tr><tr><td>&quot;The image features a rich pale…</td><td>[0.012057, 0.037521, … 0.004547]</td></tr></tbody></table></div>"
      ],
      "text/plain": [
       "shape: (3, 2)\n",
       "┌─────────────────────────────────┬─────────────────────────────────┐\n",
       "│ description                     ┆ embeddings                      │\n",
       "│ ---                             ┆ ---                             │\n",
       "│ str                             ┆ list[f64]                       │\n",
       "╞═════════════════════════════════╪═════════════════════════════════╡\n",
       "│ The image is rich in golds and… ┆ [-0.008282, 0.030209, … -0.003… │\n",
       "│ The image features a somber pa… ┆ [0.058479, 0.083046, … 0.00847… │\n",
       "│ The image features a rich pale… ┆ [0.012057, 0.037521, … 0.00454… │\n",
       "└─────────────────────────────────┴─────────────────────────────────┘"
      ]
     },
     "execution_count": 116,
     "metadata": {},
     "output_type": "execute_result"
    }
   ],
   "source": [
    "artworks_df[[\"description\", \"embeddings\"]].head(3)"
   ]
  },
  {
   "cell_type": "markdown",
   "metadata": {},
   "source": [
    "## Looking at image links"
   ]
  },
  {
   "cell_type": "code",
   "execution_count": 24,
   "metadata": {},
   "outputs": [
    {
     "data": {
      "text/plain": [
       "'https://d32dm0rphc51dk.cloudfront.net/NOpIAwQa-3r51Cg9qXKbfA/medium.jpg'"
      ]
     },
     "execution_count": 24,
     "metadata": {},
     "output_type": "execute_result"
    }
   ],
   "source": [
    "artworks_df[\"thumbnail_link\"][0]"
   ]
  },
  {
   "cell_type": "code",
   "execution_count": 118,
   "metadata": {},
   "outputs": [
    {
     "data": {
      "text/html": [
       "<div style=\"display: grid; grid-template-columns: repeat(6, 1fr); gap: 10px; max-width: 900px;\"><img src=\"https://d32dm0rphc51dk.cloudfront.net/zWJHbiYf9csKWBouYL8NPQ/medium.jpg\" style=\"width: 100%; height: auto;\"><img src=\"https://d32dm0rphc51dk.cloudfront.net/vBvIC0FOpsljnryLKUFYkA/medium.jpg\" style=\"width: 100%; height: auto;\"><img src=\"https://d32dm0rphc51dk.cloudfront.net/LRpIKE9MJxaVwlUMP1Aw3g/medium.jpg\" style=\"width: 100%; height: auto;\"><img src=\"https://d32dm0rphc51dk.cloudfront.net/BO_-54_cOXz7wNJvn-dQNQ/medium.jpg\" style=\"width: 100%; height: auto;\"><img src=\"https://d32dm0rphc51dk.cloudfront.net/j9y6XItWm8BhBcm-Lc7vmw/medium.jpg\" style=\"width: 100%; height: auto;\"><img src=\"https://d32dm0rphc51dk.cloudfront.net/jgqvrhmMb0gRtROFN-z60A/medium.jpg\" style=\"width: 100%; height: auto;\"><img src=\"https://d32dm0rphc51dk.cloudfront.net/XarxRsig0vT6093cH0sBwQ/medium.jpg\" style=\"width: 100%; height: auto;\"><img src=\"https://d32dm0rphc51dk.cloudfront.net/dH0_hMSQtvqz-_Abqbb4rA/medium.jpg\" style=\"width: 100%; height: auto;\"><img src=\"https://d32dm0rphc51dk.cloudfront.net/oL-tkP90pwIqVB-gSqbUXQ/medium.jpg\" style=\"width: 100%; height: auto;\"><img src=\"https://d32dm0rphc51dk.cloudfront.net/yIvkjT5tVsvLzken4IMHZA/medium.jpg\" style=\"width: 100%; height: auto;\"><img src=\"https://d32dm0rphc51dk.cloudfront.net/6z5Gus_ciqKXLVAMK4ME5w/medium.jpg\" style=\"width: 100%; height: auto;\"><img src=\"https://d32dm0rphc51dk.cloudfront.net/36WfjJwAi6T0QnzbNZYlRw/medium.jpg\" style=\"width: 100%; height: auto;\"></div>"
      ],
      "text/plain": [
       "<IPython.core.display.HTML object>"
      ]
     },
     "metadata": {},
     "output_type": "display_data"
    }
   ],
   "source": [
    "from IPython.display import HTML, display\n",
    "\n",
    "image_urls = artworks_df[\"thumbnail_link\"].tail(12).to_list()\n",
    "grid_html = '<div style=\"display: grid; grid-template-columns: repeat(6, 1fr); gap: 10px; max-width: 900px;\">'\n",
    "\n",
    "for url in image_urls:\n",
    "    grid_html += f'<img src=\"{url}\" style=\"width: 100%; height: auto;\">'\n",
    "\n",
    "grid_html += \"</div>\"\n",
    "\n",
    "display(HTML(grid_html))\n"
   ]
  },
  {
   "cell_type": "markdown",
   "metadata": {},
   "source": [
    "# Users Data"
   ]
  },
  {
   "cell_type": "code",
   "execution_count": 25,
   "metadata": {},
   "outputs": [
    {
     "data": {
      "text/plain": [
       "(54000, 5)"
      ]
     },
     "execution_count": 25,
     "metadata": {},
     "output_type": "execute_result"
    }
   ],
   "source": [
    "users_df = pl.read_csv(\"../data/updated_user_details.csv\")\n",
    "users_df.shape\n"
   ]
  },
  {
   "cell_type": "markdown",
   "metadata": {},
   "source": [
    "The users DataFrame looks as follows:"
   ]
  },
  {
   "cell_type": "code",
   "execution_count": 26,
   "metadata": {},
   "outputs": [
    {
     "data": {
      "text/html": [
       "<div><style>\n",
       ".dataframe > thead > tr,\n",
       ".dataframe > tbody > tr {\n",
       "  text-align: right;\n",
       "  white-space: pre-wrap;\n",
       "}\n",
       "</style>\n",
       "<small>shape: (3, 5)</small><table border=\"1\" class=\"dataframe\"><thead><tr><th>user_id</th><th>literal</th><th>age</th><th>gender</th><th>preference</th></tr><tr><td>str</td><td>str</td><td>i64</td><td>str</td><td>str</td></tr></thead><tbody><tr><td>&quot;69ff63b1-4803-49c9-8585-3b0f47…</td><td>&quot;[Abbaye du Gard pres d&#x27; Abbevi…</td><td>42</td><td>&quot;Male&quot;</td><td>&quot;Impressionism&quot;</td></tr><tr><td>&quot;81cd5866-14fb-4968-80f2-accf84…</td><td>&quot;[Italian Landscape, Sunset (So…</td><td>48</td><td>&quot;Female&quot;</td><td>&quot;Impressionism&quot;</td></tr><tr><td>&quot;83e00911-6b5a-44d3-9edb-3c02a2…</td><td>&quot;[The Church of Souain, The Sei…</td><td>56</td><td>&quot;Female&quot;</td><td>&quot;Impressionism&quot;</td></tr></tbody></table></div>"
      ],
      "text/plain": [
       "shape: (3, 5)\n",
       "┌─────────────────────────────────┬─────────────────────────────────┬─────┬────────┬───────────────┐\n",
       "│ user_id                         ┆ literal                         ┆ age ┆ gender ┆ preference    │\n",
       "│ ---                             ┆ ---                             ┆ --- ┆ ---    ┆ ---           │\n",
       "│ str                             ┆ str                             ┆ i64 ┆ str    ┆ str           │\n",
       "╞═════════════════════════════════╪═════════════════════════════════╪═════╪════════╪═══════════════╡\n",
       "│ 69ff63b1-4803-49c9-8585-3b0f47… ┆ [Abbaye du Gard pres d' Abbevi… ┆ 42  ┆ Male   ┆ Impressionism │\n",
       "│ 81cd5866-14fb-4968-80f2-accf84… ┆ [Italian Landscape, Sunset (So… ┆ 48  ┆ Female ┆ Impressionism │\n",
       "│ 83e00911-6b5a-44d3-9edb-3c02a2… ┆ [The Church of Souain, The Sei… ┆ 56  ┆ Female ┆ Impressionism │\n",
       "└─────────────────────────────────┴─────────────────────────────────┴─────┴────────┴───────────────┘"
      ]
     },
     "execution_count": 26,
     "metadata": {},
     "output_type": "execute_result"
    }
   ],
   "source": [
    "users_df.head(3)"
   ]
  },
  {
   "cell_type": "markdown",
   "metadata": {},
   "source": [
    "Check for nulls"
   ]
  },
  {
   "cell_type": "code",
   "execution_count": 27,
   "metadata": {},
   "outputs": [
    {
     "data": {
      "text/html": [
       "<div><style>\n",
       ".dataframe > thead > tr,\n",
       ".dataframe > tbody > tr {\n",
       "  text-align: right;\n",
       "  white-space: pre-wrap;\n",
       "}\n",
       "</style>\n",
       "<small>shape: (1, 5)</small><table border=\"1\" class=\"dataframe\"><thead><tr><th>user_id</th><th>literal</th><th>age</th><th>gender</th><th>preference</th></tr><tr><td>u32</td><td>u32</td><td>u32</td><td>u32</td><td>u32</td></tr></thead><tbody><tr><td>0</td><td>0</td><td>0</td><td>0</td><td>0</td></tr></tbody></table></div>"
      ],
      "text/plain": [
       "shape: (1, 5)\n",
       "┌─────────┬─────────┬─────┬────────┬────────────┐\n",
       "│ user_id ┆ literal ┆ age ┆ gender ┆ preference │\n",
       "│ ---     ┆ ---     ┆ --- ┆ ---    ┆ ---        │\n",
       "│ u32     ┆ u32     ┆ u32 ┆ u32    ┆ u32        │\n",
       "╞═════════╪═════════╪═════╪════════╪════════════╡\n",
       "│ 0       ┆ 0       ┆ 0   ┆ 0      ┆ 0          │\n",
       "└─────────┴─────────┴─────┴────────┴────────────┘"
      ]
     },
     "execution_count": 27,
     "metadata": {},
     "output_type": "execute_result"
    }
   ],
   "source": [
    "users_df.null_count()"
   ]
  },
  {
   "cell_type": "markdown",
   "metadata": {},
   "source": [
    "# Users feature engineering"
   ]
  },
  {
   "cell_type": "code",
   "execution_count": 30,
   "metadata": {},
   "outputs": [
    {
     "data": {
      "text/plain": [
       "(54000, 6)"
      ]
     },
     "execution_count": 30,
     "metadata": {},
     "output_type": "execute_result"
    }
   ],
   "source": [
    "users_df = compute_features_users(users_df, drop_null_age=True)\n",
    "users_df.shape"
   ]
  },
  {
   "cell_type": "markdown",
   "metadata": {},
   "source": [
    "# Transactions Data\n",
    "These are the artworks a user likes"
   ]
  },
  {
   "cell_type": "code",
   "execution_count": 58,
   "metadata": {},
   "outputs": [
    {
     "data": {
      "text/plain": [
       "(306100, 4)"
      ]
     },
     "execution_count": 58,
     "metadata": {},
     "output_type": "execute_result"
    }
   ],
   "source": [
    "transactions_df = pl.read_csv(\"../data/transaction-data.csv\")\n",
    "transactions_df.shape"
   ]
  },
  {
   "cell_type": "markdown",
   "metadata": {},
   "source": [
    "Transactions DataFrame looks as follows"
   ]
  },
  {
   "cell_type": "code",
   "execution_count": 62,
   "metadata": {},
   "outputs": [
    {
     "data": {
      "text/html": [
       "<div><style>\n",
       ".dataframe > thead > tr,\n",
       ".dataframe > tbody > tr {\n",
       "  text-align: right;\n",
       "  white-space: pre-wrap;\n",
       "}\n",
       "</style>\n",
       "<small>shape: (3, 5)</small><table border=\"1\" class=\"dataframe\"><thead><tr><th>transaction_id</th><th>user_id</th><th>artwork_id</th><th>thumbnail_link</th><th>t_dat</th></tr><tr><td>str</td><td>str</td><td>str</td><td>str</td><td>str</td></tr></thead><tbody><tr><td>&quot;f9f34e02-f51d-42ff-ada2-928728…</td><td>&quot;636d1fa7-a3c2-4fe6-b278-265d29…</td><td>&quot;516cbb4a0f8b7853440003fe&quot;</td><td>&quot;https://d32dm0rphc51dk.cloudfr…</td><td>&quot;2024-12-22&quot;</td></tr><tr><td>&quot;7f8ba386-bfe0-4c0a-b71e-c45c9b…</td><td>&quot;8cea0e10-c960-44e9-b404-bc3047…</td><td>&quot;516cbfd89ad2d38886000142&quot;</td><td>&quot;https://d32dm0rphc51dk.cloudfr…</td><td>&quot;2024-12-22&quot;</td></tr><tr><td>&quot;a2f1abf6-b58b-4f4a-a0ba-ee2fba…</td><td>&quot;5ab9bc35-c1e5-4d99-bddd-499653…</td><td>&quot;515b45c0223afa29bd000948&quot;</td><td>&quot;https://d32dm0rphc51dk.cloudfr…</td><td>&quot;2024-12-22&quot;</td></tr></tbody></table></div>"
      ],
      "text/plain": [
       "shape: (3, 5)\n",
       "┌─────────────────────┬─────────────────────┬────────────────────┬────────────────────┬────────────┐\n",
       "│ transaction_id      ┆ user_id             ┆ artwork_id         ┆ thumbnail_link     ┆ t_dat      │\n",
       "│ ---                 ┆ ---                 ┆ ---                ┆ ---                ┆ ---        │\n",
       "│ str                 ┆ str                 ┆ str                ┆ str                ┆ str        │\n",
       "╞═════════════════════╪═════════════════════╪════════════════════╪════════════════════╪════════════╡\n",
       "│ f9f34e02-f51d-42ff- ┆ 636d1fa7-a3c2-4fe6- ┆ 516cbb4a0f8b785344 ┆ https://d32dm0rphc ┆ 2024-12-22 │\n",
       "│ ada2-928728…        ┆ b278-265d29…        ┆ 0003fe             ┆ 51dk.cloudfr…      ┆            │\n",
       "│ 7f8ba386-bfe0-4c0a- ┆ 8cea0e10-c960-44e9- ┆ 516cbfd89ad2d38886 ┆ https://d32dm0rphc ┆ 2024-12-22 │\n",
       "│ b71e-c45c9b…        ┆ b404-bc3047…        ┆ 000142             ┆ 51dk.cloudfr…      ┆            │\n",
       "│ a2f1abf6-b58b-4f4a- ┆ 5ab9bc35-c1e5-4d99- ┆ 515b45c0223afa29bd ┆ https://d32dm0rphc ┆ 2024-12-22 │\n",
       "│ a0ba-ee2fba…        ┆ bddd-499653…        ┆ 000948             ┆ 51dk.cloudfr…      ┆            │\n",
       "└─────────────────────┴─────────────────────┴────────────────────┴────────────────────┴────────────┘"
      ]
     },
     "execution_count": 62,
     "metadata": {},
     "output_type": "execute_result"
    }
   ],
   "source": [
    "transactions_df.head(3)"
   ]
  },
  {
   "cell_type": "code",
   "execution_count": 67,
   "metadata": {},
   "outputs": [
    {
     "data": {
      "text/html": [
       "<div><style>\n",
       ".dataframe > thead > tr,\n",
       ".dataframe > tbody > tr {\n",
       "  text-align: right;\n",
       "  white-space: pre-wrap;\n",
       "}\n",
       "</style>\n",
       "<small>shape: (3, 5)</small><table border=\"1\" class=\"dataframe\"><thead><tr><th>transaction_id</th><th>user_id</th><th>artwork_id</th><th>thumbnail_link</th><th>t_dat</th></tr><tr><td>str</td><td>str</td><td>str</td><td>str</td><td>datetime[μs]</td></tr></thead><tbody><tr><td>&quot;f9f34e02-f51d-42ff-ada2-928728…</td><td>&quot;636d1fa7-a3c2-4fe6-b278-265d29…</td><td>&quot;516cbb4a0f8b7853440003fe&quot;</td><td>&quot;https://d32dm0rphc51dk.cloudfr…</td><td>2024-12-22 12:47:45.756524</td></tr><tr><td>&quot;7f8ba386-bfe0-4c0a-b71e-c45c9b…</td><td>&quot;8cea0e10-c960-44e9-b404-bc3047…</td><td>&quot;516cbfd89ad2d38886000142&quot;</td><td>&quot;https://d32dm0rphc51dk.cloudfr…</td><td>2024-12-22 12:47:45.756524</td></tr><tr><td>&quot;a2f1abf6-b58b-4f4a-a0ba-ee2fba…</td><td>&quot;5ab9bc35-c1e5-4d99-bddd-499653…</td><td>&quot;515b45c0223afa29bd000948&quot;</td><td>&quot;https://d32dm0rphc51dk.cloudfr…</td><td>2024-12-22 12:47:45.756524</td></tr></tbody></table></div>"
      ],
      "text/plain": [
       "shape: (3, 5)\n",
       "┌───────────────────┬───────────────────┬───────────────────┬───────────────────┬──────────────────┐\n",
       "│ transaction_id    ┆ user_id           ┆ artwork_id        ┆ thumbnail_link    ┆ t_dat            │\n",
       "│ ---               ┆ ---               ┆ ---               ┆ ---               ┆ ---              │\n",
       "│ str               ┆ str               ┆ str               ┆ str               ┆ datetime[μs]     │\n",
       "╞═══════════════════╪═══════════════════╪═══════════════════╪═══════════════════╪══════════════════╡\n",
       "│ f9f34e02-f51d-42f ┆ 636d1fa7-a3c2-4fe ┆ 516cbb4a0f8b78534 ┆ https://d32dm0rph ┆ 2024-12-22       │\n",
       "│ f-ada2-928728…    ┆ 6-b278-265d29…    ┆ 40003fe           ┆ c51dk.cloudfr…    ┆ 12:47:45.756524  │\n",
       "│ 7f8ba386-bfe0-4c0 ┆ 8cea0e10-c960-44e ┆ 516cbfd89ad2d3888 ┆ https://d32dm0rph ┆ 2024-12-22       │\n",
       "│ a-b71e-c45c9b…    ┆ 9-b404-bc3047…    ┆ 6000142           ┆ c51dk.cloudfr…    ┆ 12:47:45.756524  │\n",
       "│ a2f1abf6-b58b-4f4 ┆ 5ab9bc35-c1e5-4d9 ┆ 515b45c0223afa29b ┆ https://d32dm0rph ┆ 2024-12-22       │\n",
       "│ a-a0ba-ee2fba…    ┆ 9-bddd-499653…    ┆ d000948           ┆ c51dk.cloudfr…    ┆ 12:47:45.756524  │\n",
       "└───────────────────┴───────────────────┴───────────────────┴───────────────────┴──────────────────┘"
      ]
     },
     "execution_count": 67,
     "metadata": {},
     "output_type": "execute_result"
    }
   ],
   "source": [
    "from datetime import datetime\n",
    "t_dat = datetime.today()\n",
    "# t_dat = datetime.today().strftime('%Y-%m-%d')\n",
    "transactions_df = (\n",
    "    transactions_df.with_columns(t_dat=pl.lit(t_dat))\n",
    ")\n",
    "\n",
    "transactions_df.head(3)"
   ]
  },
  {
   "cell_type": "markdown",
   "metadata": {},
   "source": [
    "# Transactions Feature Engineering"
   ]
  },
  {
   "cell_type": "code",
   "execution_count": 68,
   "metadata": {},
   "outputs": [
    {
     "data": {
      "text/plain": [
       "(306100, 9)"
      ]
     },
     "execution_count": 68,
     "metadata": {},
     "output_type": "execute_result"
    }
   ],
   "source": [
    "transactions_df = compute_features_transactions(transactions_df)\n",
    "transactions_df.shape"
   ]
  },
  {
   "cell_type": "code",
   "execution_count": 69,
   "metadata": {},
   "outputs": [
    {
     "data": {
      "text/html": [
       "<div><style>\n",
       ".dataframe > thead > tr,\n",
       ".dataframe > tbody > tr {\n",
       "  text-align: right;\n",
       "  white-space: pre-wrap;\n",
       "}\n",
       "</style>\n",
       "<small>shape: (3, 9)</small><table border=\"1\" class=\"dataframe\"><thead><tr><th>transaction_id</th><th>user_id</th><th>artwork_id</th><th>thumbnail_link</th><th>t_dat</th><th>year</th><th>month</th><th>day</th><th>day_of_week</th></tr><tr><td>str</td><td>str</td><td>str</td><td>str</td><td>i64</td><td>i32</td><td>i8</td><td>i8</td><td>i8</td></tr></thead><tbody><tr><td>&quot;f9f34e02-f51d-42ff-ada2-928728…</td><td>&quot;636d1fa7-a3c2-4fe6-b278-265d29…</td><td>&quot;516cbb4a0f8b7853440003fe&quot;</td><td>&quot;https://d32dm0rphc51dk.cloudfr…</td><td>1734871665</td><td>2024</td><td>12</td><td>22</td><td>7</td></tr><tr><td>&quot;7f8ba386-bfe0-4c0a-b71e-c45c9b…</td><td>&quot;8cea0e10-c960-44e9-b404-bc3047…</td><td>&quot;516cbfd89ad2d38886000142&quot;</td><td>&quot;https://d32dm0rphc51dk.cloudfr…</td><td>1734871665</td><td>2024</td><td>12</td><td>22</td><td>7</td></tr><tr><td>&quot;a2f1abf6-b58b-4f4a-a0ba-ee2fba…</td><td>&quot;5ab9bc35-c1e5-4d99-bddd-499653…</td><td>&quot;515b45c0223afa29bd000948&quot;</td><td>&quot;https://d32dm0rphc51dk.cloudfr…</td><td>1734871665</td><td>2024</td><td>12</td><td>22</td><td>7</td></tr></tbody></table></div>"
      ],
      "text/plain": [
       "shape: (3, 9)\n",
       "┌──────────────┬──────────────┬──────────────┬──────────────┬───┬──────┬───────┬─────┬─────────────┐\n",
       "│ transaction_ ┆ user_id      ┆ artwork_id   ┆ thumbnail_li ┆ … ┆ year ┆ month ┆ day ┆ day_of_week │\n",
       "│ id           ┆ ---          ┆ ---          ┆ nk           ┆   ┆ ---  ┆ ---   ┆ --- ┆ ---         │\n",
       "│ ---          ┆ str          ┆ str          ┆ ---          ┆   ┆ i32  ┆ i8    ┆ i8  ┆ i8          │\n",
       "│ str          ┆              ┆              ┆ str          ┆   ┆      ┆       ┆     ┆             │\n",
       "╞══════════════╪══════════════╪══════════════╪══════════════╪═══╪══════╪═══════╪═════╪═════════════╡\n",
       "│ f9f34e02-f51 ┆ 636d1fa7-a3c ┆ 516cbb4a0f8b ┆ https://d32d ┆ … ┆ 2024 ┆ 12    ┆ 22  ┆ 7           │\n",
       "│ d-42ff-ada2- ┆ 2-4fe6-b278- ┆ 7853440003fe ┆ m0rphc51dk.c ┆   ┆      ┆       ┆     ┆             │\n",
       "│ 928728…      ┆ 265d29…      ┆              ┆ loudfr…      ┆   ┆      ┆       ┆     ┆             │\n",
       "│ 7f8ba386-bfe ┆ 8cea0e10-c96 ┆ 516cbfd89ad2 ┆ https://d32d ┆ … ┆ 2024 ┆ 12    ┆ 22  ┆ 7           │\n",
       "│ 0-4c0a-b71e- ┆ 0-44e9-b404- ┆ d38886000142 ┆ m0rphc51dk.c ┆   ┆      ┆       ┆     ┆             │\n",
       "│ c45c9b…      ┆ bc3047…      ┆              ┆ loudfr…      ┆   ┆      ┆       ┆     ┆             │\n",
       "│ a2f1abf6-b58 ┆ 5ab9bc35-c1e ┆ 515b45c0223a ┆ https://d32d ┆ … ┆ 2024 ┆ 12    ┆ 22  ┆ 7           │\n",
       "│ b-4f4a-a0ba- ┆ 5-4d99-bddd- ┆ fa29bd000948 ┆ m0rphc51dk.c ┆   ┆      ┆       ┆     ┆             │\n",
       "│ ee2fba…      ┆ 499653…      ┆              ┆ loudfr…      ┆   ┆      ┆       ┆     ┆             │\n",
       "└──────────────┴──────────────┴──────────────┴──────────────┴───┴──────┴───────┴─────┴─────────────┘"
      ]
     },
     "execution_count": 69,
     "metadata": {},
     "output_type": "execute_result"
    }
   ],
   "source": [
    "transactions_df.head(3)"
   ]
  },
  {
   "cell_type": "markdown",
   "metadata": {},
   "source": [
    "We don't want to work with ~300k transactions in these series, as everything will take too much time to run. Thus, we create a subset of the original dataset by randomly sampling from the users' datasets and taking only their transactions."
   ]
  },
  {
   "cell_type": "code",
   "execution_count": 70,
   "metadata": {},
   "outputs": [
    {
     "name": "stderr",
     "output_type": "stream",
     "text": [
      "\u001b[32m2024-12-22 12:48:01.195\u001b[0m | \u001b[1mINFO    \u001b[0m | \u001b[36mrecsys.features.users\u001b[0m:\u001b[36msample\u001b[0m:\u001b[36m29\u001b[0m - \u001b[1mSampling 1000 users.\u001b[0m\n",
      "\u001b[32m2024-12-22 12:48:01.195\u001b[0m | \u001b[1mINFO    \u001b[0m | \u001b[36mrecsys.features.users\u001b[0m:\u001b[36msample\u001b[0m:\u001b[36m32\u001b[0m - \u001b[1mNumber of transactions for all the users: 306100\u001b[0m\n",
      "\u001b[32m2024-12-22 12:48:01.205\u001b[0m | \u001b[1mINFO    \u001b[0m | \u001b[36mrecsys.features.users\u001b[0m:\u001b[36msample\u001b[0m:\u001b[36m38\u001b[0m - \u001b[1mNumber of transactions for the 1000 sampled users: 5606\u001b[0m\n"
     ]
    }
   ],
   "source": [
    "sampler = DatasetSampler(size=settings.USER_DATA_SIZE)\n",
    "dataset_subset = sampler.sample(\n",
    "    users_df=users_df, transations_df=transactions_df\n",
    ")\n",
    "users_df = dataset_subset[\"users\"]\n",
    "transactions_df = dataset_subset[\"transactions\"]"
   ]
  },
  {
   "cell_type": "code",
   "execution_count": 71,
   "metadata": {},
   "outputs": [
    {
     "data": {
      "text/plain": [
       "(5606, 9)"
      ]
     },
     "execution_count": 71,
     "metadata": {},
     "output_type": "execute_result"
    }
   ],
   "source": [
    "transactions_df.shape"
   ]
  },
  {
   "cell_type": "markdown",
   "metadata": {},
   "source": [
    "Some of the remaining customers"
   ]
  },
  {
   "cell_type": "code",
   "execution_count": 72,
   "metadata": {},
   "outputs": [
    {
     "name": "stderr",
     "output_type": "stream",
     "text": [
      "\u001b[32m2024-12-22 12:48:06.160\u001b[0m | \u001b[1mINFO    \u001b[0m | \u001b[36m__main__\u001b[0m:\u001b[36m<module>\u001b[0m:\u001b[36m2\u001b[0m - \u001b[1mLogging user ID: b9b09efb-6eec-4d0c-b41c-f7a036905d98\u001b[0m\n",
      "\u001b[32m2024-12-22 12:48:06.161\u001b[0m | \u001b[1mINFO    \u001b[0m | \u001b[36m__main__\u001b[0m:\u001b[36m<module>\u001b[0m:\u001b[36m2\u001b[0m - \u001b[1mLogging user ID: 45f542e1-a300-4d14-b887-29dae821c598\u001b[0m\n",
      "\u001b[32m2024-12-22 12:48:06.161\u001b[0m | \u001b[1mINFO    \u001b[0m | \u001b[36m__main__\u001b[0m:\u001b[36m<module>\u001b[0m:\u001b[36m2\u001b[0m - \u001b[1mLogging user ID: 96692d5b-3b40-428e-a1d2-e2de2df77ba4\u001b[0m\n",
      "\u001b[32m2024-12-22 12:48:06.161\u001b[0m | \u001b[1mINFO    \u001b[0m | \u001b[36m__main__\u001b[0m:\u001b[36m<module>\u001b[0m:\u001b[36m2\u001b[0m - \u001b[1mLogging user ID: db7c1b44-6830-4181-91bc-b5bbe7631195\u001b[0m\n",
      "\u001b[32m2024-12-22 12:48:06.161\u001b[0m | \u001b[1mINFO    \u001b[0m | \u001b[36m__main__\u001b[0m:\u001b[36m<module>\u001b[0m:\u001b[36m2\u001b[0m - \u001b[1mLogging user ID: 0d172e6c-554e-4226-8900-d95f7056d1ae\u001b[0m\n",
      "\u001b[32m2024-12-22 12:48:06.162\u001b[0m | \u001b[1mINFO    \u001b[0m | \u001b[36m__main__\u001b[0m:\u001b[36m<module>\u001b[0m:\u001b[36m2\u001b[0m - \u001b[1mLogging user ID: e98f53a2-c651-4a5d-9cfc-4bc3da164a90\u001b[0m\n",
      "\u001b[32m2024-12-22 12:48:06.162\u001b[0m | \u001b[1mINFO    \u001b[0m | \u001b[36m__main__\u001b[0m:\u001b[36m<module>\u001b[0m:\u001b[36m2\u001b[0m - \u001b[1mLogging user ID: 64d384d0-644d-4b00-8867-73ac738a297f\u001b[0m\n",
      "\u001b[32m2024-12-22 12:48:06.162\u001b[0m | \u001b[1mINFO    \u001b[0m | \u001b[36m__main__\u001b[0m:\u001b[36m<module>\u001b[0m:\u001b[36m2\u001b[0m - \u001b[1mLogging user ID: 691fb17b-1a48-4acb-a940-b88943638433\u001b[0m\n",
      "\u001b[32m2024-12-22 12:48:06.162\u001b[0m | \u001b[1mINFO    \u001b[0m | \u001b[36m__main__\u001b[0m:\u001b[36m<module>\u001b[0m:\u001b[36m2\u001b[0m - \u001b[1mLogging user ID: 8f4d2c4a-9d02-4386-83be-8434cf9032e4\u001b[0m\n",
      "\u001b[32m2024-12-22 12:48:06.162\u001b[0m | \u001b[1mINFO    \u001b[0m | \u001b[36m__main__\u001b[0m:\u001b[36m<module>\u001b[0m:\u001b[36m2\u001b[0m - \u001b[1mLogging user ID: 95f9abbc-7fe5-4ddb-a06f-f73856c2927c\u001b[0m\n"
     ]
    }
   ],
   "source": [
    "for user_id in transactions_df[\"user_id\"].unique().head(10):\n",
    "    logger.info(f\"Logging user ID: {user_id}\")"
   ]
  },
  {
   "cell_type": "markdown",
   "metadata": {},
   "source": [
    "# 🤳🏻 Interaction data\n",
    "\n",
    "To train our models, we need more than just the transactions DataFrame. We need positive samples that signal whether a user clicked or liked an item, but we also need negative samples that signal no interactions between a user and an artwork."
   ]
  },
  {
   "cell_type": "code",
   "execution_count": 73,
   "metadata": {},
   "outputs": [
    {
     "name": "stderr",
     "output_type": "stream",
     "text": [
      "Processing user chunks: 100%|██████████| 1/1 [00:01<00:00,  1.05s/it]\n"
     ]
    },
    {
     "data": {
      "text/plain": [
       "(93801, 5)"
      ]
     },
     "execution_count": 73,
     "metadata": {},
     "output_type": "execute_result"
    }
   ],
   "source": [
    "interaction_df = generate_interaction_data(transactions_df)\n",
    "interaction_df.shape"
   ]
  },
  {
   "cell_type": "markdown",
   "metadata": {},
   "source": [
    "The interaction features look as follows:"
   ]
  },
  {
   "cell_type": "code",
   "execution_count": 74,
   "metadata": {},
   "outputs": [
    {
     "data": {
      "text/html": [
       "<div><style>\n",
       ".dataframe > thead > tr,\n",
       ".dataframe > tbody > tr {\n",
       "  text-align: right;\n",
       "  white-space: pre-wrap;\n",
       "}\n",
       "</style>\n",
       "<small>shape: (5, 5)</small><table border=\"1\" class=\"dataframe\"><thead><tr><th>t_dat</th><th>user_id</th><th>artwork_id</th><th>interaction_score</th><th>prev_artwork_id</th></tr><tr><td>i64</td><td>str</td><td>str</td><td>i64</td><td>str</td></tr></thead><tbody><tr><td>1382071665</td><td>&quot;00306dfa-3c17-4709-b9f4-834502…</td><td>&quot;515d34815eeb1c904c00385b&quot;</td><td>0</td><td>&quot;START&quot;</td></tr><tr><td>1385671665</td><td>&quot;00306dfa-3c17-4709-b9f4-834502…</td><td>&quot;515d0d29b5907bf7e80024d4&quot;</td><td>0</td><td>&quot;515d34815eeb1c904c00385b&quot;</td></tr><tr><td>1385671665</td><td>&quot;00306dfa-3c17-4709-b9f4-834502…</td><td>&quot;515bacbe94714c2e3800107c&quot;</td><td>0</td><td>&quot;515d0d29b5907bf7e80024d4&quot;</td></tr><tr><td>1428871665</td><td>&quot;00306dfa-3c17-4709-b9f4-834502…</td><td>&quot;515b3fe8223afaab8f000eed&quot;</td><td>0</td><td>&quot;515bacbe94714c2e3800107c&quot;</td></tr><tr><td>1436071665</td><td>&quot;00306dfa-3c17-4709-b9f4-834502…</td><td>&quot;515d24be7696593fde00320c&quot;</td><td>0</td><td>&quot;515b3fe8223afaab8f000eed&quot;</td></tr></tbody></table></div>"
      ],
      "text/plain": [
       "shape: (5, 5)\n",
       "┌────────────┬─────────────────────┬─────────────────────┬───────────────────┬─────────────────────┐\n",
       "│ t_dat      ┆ user_id             ┆ artwork_id          ┆ interaction_score ┆ prev_artwork_id     │\n",
       "│ ---        ┆ ---                 ┆ ---                 ┆ ---               ┆ ---                 │\n",
       "│ i64        ┆ str                 ┆ str                 ┆ i64               ┆ str                 │\n",
       "╞════════════╪═════════════════════╪═════════════════════╪═══════════════════╪═════════════════════╡\n",
       "│ 1382071665 ┆ 00306dfa-3c17-4709- ┆ 515d34815eeb1c904c0 ┆ 0                 ┆ START               │\n",
       "│            ┆ b9f4-834502…        ┆ 0385b               ┆                   ┆                     │\n",
       "│ 1385671665 ┆ 00306dfa-3c17-4709- ┆ 515d0d29b5907bf7e80 ┆ 0                 ┆ 515d34815eeb1c904c0 │\n",
       "│            ┆ b9f4-834502…        ┆ 024d4               ┆                   ┆ 0385b               │\n",
       "│ 1385671665 ┆ 00306dfa-3c17-4709- ┆ 515bacbe94714c2e380 ┆ 0                 ┆ 515d0d29b5907bf7e80 │\n",
       "│            ┆ b9f4-834502…        ┆ 0107c               ┆                   ┆ 024d4               │\n",
       "│ 1428871665 ┆ 00306dfa-3c17-4709- ┆ 515b3fe8223afaab8f0 ┆ 0                 ┆ 515bacbe94714c2e380 │\n",
       "│            ┆ b9f4-834502…        ┆ 00eed               ┆                   ┆ 0107c               │\n",
       "│ 1436071665 ┆ 00306dfa-3c17-4709- ┆ 515d24be7696593fde0 ┆ 0                 ┆ 515b3fe8223afaab8f0 │\n",
       "│            ┆ b9f4-834502…        ┆ 0320c               ┆                   ┆ 00eed               │\n",
       "└────────────┴─────────────────────┴─────────────────────┴───────────────────┴─────────────────────┘"
      ]
     },
     "execution_count": 74,
     "metadata": {},
     "output_type": "execute_result"
    }
   ],
   "source": [
    "interaction_df.head()"
   ]
  },
  {
   "cell_type": "markdown",
   "metadata": {},
   "source": [
    "Let's take a look at the interaction score distribution"
   ]
  },
  {
   "cell_type": "code",
   "execution_count": 75,
   "metadata": {},
   "outputs": [
    {
     "data": {
      "text/html": [
       "<div><style>\n",
       ".dataframe > thead > tr,\n",
       ".dataframe > tbody > tr {\n",
       "  text-align: right;\n",
       "  white-space: pre-wrap;\n",
       "}\n",
       "</style>\n",
       "<small>shape: (3, 2)</small><table border=\"1\" class=\"dataframe\"><thead><tr><th>interaction_score</th><th>total_interactions</th></tr><tr><td>i64</td><td>u32</td></tr></thead><tbody><tr><td>0</td><td>74560</td></tr><tr><td>1</td><td>13635</td></tr><tr><td>2</td><td>5606</td></tr></tbody></table></div>"
      ],
      "text/plain": [
       "shape: (3, 2)\n",
       "┌───────────────────┬────────────────────┐\n",
       "│ interaction_score ┆ total_interactions │\n",
       "│ ---               ┆ ---                │\n",
       "│ i64               ┆ u32                │\n",
       "╞═══════════════════╪════════════════════╡\n",
       "│ 0                 ┆ 74560              │\n",
       "│ 1                 ┆ 13635              │\n",
       "│ 2                 ┆ 5606               │\n",
       "└───────────────────┴────────────────────┘"
      ]
     },
     "execution_count": 75,
     "metadata": {},
     "output_type": "execute_result"
    }
   ],
   "source": [
    "interaction_df.group_by(\"interaction_score\").agg(\n",
    "    pl.count(\"interaction_score\").alias(\"total_interactions\")\n",
    ")"
   ]
  },
  {
   "cell_type": "markdown",
   "metadata": {},
   "source": [
    "Here is what each score means:\n",
    "- `0` : No interaction between a user and an artwork\n",
    "- `1` : A user clicked an artwork\n",
    "- `2` : A cuser liked an item"
   ]
  }
 ],
 "metadata": {
  "kernelspec": {
   "display_name": ".venv",
   "language": "python",
   "name": "python3"
  },
  "language_info": {
   "codemirror_mode": {
    "name": "ipython",
    "version": 3
   },
   "file_extension": ".py",
   "mimetype": "text/x-python",
   "name": "python",
   "nbconvert_exporter": "python",
   "pygments_lexer": "ipython3",
   "version": "3.11.8"
  }
 },
 "nbformat": 4,
 "nbformat_minor": 2
}
