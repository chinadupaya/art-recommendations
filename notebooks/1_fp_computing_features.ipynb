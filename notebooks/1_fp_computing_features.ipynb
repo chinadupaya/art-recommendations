{
 "cells": [
  {
   "cell_type": "code",
   "execution_count": 2,
   "metadata": {},
   "outputs": [],
   "source": [
    "import time\n",
    "\n",
    "notebook_start_time = time.time()"
   ]
  },
  {
   "cell_type": "markdown",
   "metadata": {},
   "source": [
    "# Set up environment"
   ]
  },
  {
   "cell_type": "code",
   "execution_count": 3,
   "metadata": {},
   "outputs": [
    {
     "name": "stdout",
     "output_type": "stream",
     "text": [
      "⛳️ Local environment\n",
      "Adding the following directory to the PYTHONPATH: /Users/annysiadupaya/Documents/code/art-recommendations\n"
     ]
    }
   ],
   "source": [
    "import sys\n",
    "from pathlib import Path\n",
    "\n",
    "\n",
    "def is_google_colab() -> bool:\n",
    "    if \"google.colab\" in str(get_ipython()):\n",
    "        return True\n",
    "    return False\n",
    "\n",
    "\n",
    "def clone_repository() -> None:\n",
    "    !git clone https://github.com/chinadupaya/art-recommendations.git\n",
    "    %cd art-recommendations/\n",
    "\n",
    "\n",
    "def install_dependencies() -> None:\n",
    "    !pip install --upgrade uv\n",
    "    !uv pip install --all-extras --system --requirement pyproject.toml\n",
    "\n",
    "\n",
    "if is_google_colab():\n",
    "    clone_repository()\n",
    "    install_dependencies()\n",
    "\n",
    "    root_dir = str(Path().absolute())\n",
    "    print(\"⛳️ Google Colab environment\")\n",
    "else:\n",
    "    root_dir = str(Path().absolute().parent)\n",
    "    print(\"⛳️ Local environment\")\n",
    "\n",
    "# Add the root directory to the `PYTHONPATH` to use the `recsys` Python module from the notebook.\n",
    "if root_dir not in sys.path:\n",
    "    print(f\"Adding the following directory to the PYTHONPATH: {root_dir}\")\n",
    "    sys.path.append(root_dir)"
   ]
  },
  {
   "cell_type": "markdown",
   "metadata": {},
   "source": [
    "# 👩🏻‍🔬 Feature pipeline: Computing features"
   ]
  },
  {
   "cell_type": "markdown",
   "metadata": {},
   "source": [
    "# Imports"
   ]
  },
  {
   "cell_type": "code",
   "execution_count": 4,
   "metadata": {},
   "outputs": [
    {
     "name": "stderr",
     "output_type": "stream",
     "text": [
      "/Users/annysiadupaya/Documents/code/art-recommendations/.venv/lib/python3.11/site-packages/tqdm/auto.py:21: TqdmWarning: IProgress not found. Please update jupyter and ipywidgets. See https://ipywidgets.readthedocs.io/en/stable/user_install.html\n",
      "  from .autonotebook import tqdm as notebook_tqdm\n"
     ]
    }
   ],
   "source": [
    "%load_ext autoreload\n",
    "%autoreload 2\n",
    "# %reload_ext autoreload\n",
    "\n",
    "import warnings\n",
    "from pprint import pprint\n",
    "\n",
    "import polars as pl\n",
    "import torch\n",
    "from loguru import logger\n",
    "from sentence_transformers import SentenceTransformer\n",
    "\n",
    "warnings.filterwarnings(\"ignore\")\n",
    "\n",
    "from recsys import hopsworks_integration\n",
    "from recsys.config import settings\n",
    "from recsys.features.artworks import (\n",
    "    compute_features_artworks,\n",
    "    generate_embeddings_for_dataframe,\n",
    ")\n",
    "from recsys.features.users import DatasetSampler, compute_features_users\n",
    "from recsys.features.interaction import generate_interaction_data\n",
    "from recsys.features.ranking import compute_ranking_dataset\n",
    "from recsys.features.ranking3 import compute_ranking_dataset2\n",
    "from recsys.features.transactions import compute_features_transactions\n",
    "from recsys.hopsworks_integration import feature_store"
   ]
  },
  {
   "cell_type": "markdown",
   "metadata": {},
   "source": [
    "# Constants\n",
    "\n",
    "The most important one is the dataset size.\n",
    "\n",
    "Choosing a different dataset size will impact the time it takes to run everything and the quality of the final models. We suggest using a small dataset size when running this the first time.\n",
    "\n",
    "Suported user dataset sizes:"
   ]
  },
  {
   "cell_type": "code",
   "execution_count": 6,
   "metadata": {},
   "outputs": [
    {
     "data": {
      "text/plain": [
       "{<UserDatasetSize.LARGE: 'LARGE'>: 50000,\n",
       " <UserDatasetSize.MEDIUM: 'MEDIUM'>: 5000,\n",
       " <UserDatasetSize.SMALL: 'SMALL'>: 1000}"
      ]
     },
     "execution_count": 6,
     "metadata": {},
     "output_type": "execute_result"
    }
   ],
   "source": [
    "DatasetSampler.get_supported_sizes()"
   ]
  },
  {
   "cell_type": "markdown",
   "metadata": {},
   "source": [
    "## <span style=\"color:#ff5f27\">🔮 Connect to Hopsworks Feature Store </span>"
   ]
  },
  {
   "cell_type": "code",
   "execution_count": 7,
   "metadata": {},
   "outputs": [
    {
     "name": "stderr",
     "output_type": "stream",
     "text": [
      "\u001b[32m2024-12-22 20:22:37.298\u001b[0m | \u001b[1mINFO    \u001b[0m | \u001b[36mrecsys.hopsworks_integration.feature_store\u001b[0m:\u001b[36mget_feature_store\u001b[0m:\u001b[36m15\u001b[0m - \u001b[1mLoging to Hopsworks using HOPSWORKS_API_KEY env var.\u001b[0m\n"
     ]
    },
    {
     "name": "stdout",
     "output_type": "stream",
     "text": [
      "2024-12-22 20:22:37,298 INFO: Initializing external client\n",
      "2024-12-22 20:22:37,299 INFO: Base URL: https://c.app.hopsworks.ai:443\n",
      "2024-12-22 20:22:38,863 INFO: Python Engine initialized.\n",
      "\n",
      "Logged in to project, explore it here https://c.app.hopsworks.ai:443/p/1197208\n"
     ]
    }
   ],
   "source": [
    "project, fs = hopsworks_integration.get_feature_store()"
   ]
  },
  {
   "cell_type": "code",
   "execution_count": 8,
   "metadata": {},
   "outputs": [
    {
     "data": {
      "text/plain": [
       "(18538, 8)"
      ]
     },
     "execution_count": 8,
     "metadata": {},
     "output_type": "execute_result"
    }
   ],
   "source": [
    "artworks_df =  pl.read_csv(\"../data/artworks_info.csv\")\n",
    "artworks_df.shape"
   ]
  },
  {
   "cell_type": "markdown",
   "metadata": {},
   "source": [
    "The artworks DataFrame looks as follows"
   ]
  },
  {
   "cell_type": "code",
   "execution_count": 9,
   "metadata": {},
   "outputs": [
    {
     "data": {
      "text/html": [
       "<div><style>\n",
       ".dataframe > thead > tr,\n",
       ".dataframe > tbody > tr {\n",
       "  text-align: right;\n",
       "  white-space: pre-wrap;\n",
       "}\n",
       "</style>\n",
       "<small>shape: (3, 8)</small><table border=\"1\" class=\"dataframe\"><thead><tr><th>id</th><th>title</th><th>category</th><th>thumbnail_link</th><th>artists_link</th><th>genes_link</th><th>similar_link</th><th>description</th></tr><tr><td>str</td><td>str</td><td>str</td><td>str</td><td>str</td><td>str</td><td>str</td><td>str</td></tr></thead><tbody><tr><td>&quot;4d8b92eb4eb68a1b2c000968&quot;</td><td>&quot;Der Kuss (The Kiss)&quot;</td><td>&quot;Painting&quot;</td><td>&quot;https://d32dm0rphc51dk.cloudfr…</td><td>&quot;https://api.artsy.net/api/arti…</td><td>&quot;https://api.artsy.net/api/gene…</td><td>&quot;https://api.artsy.net/api/artw…</td><td>&quot;The image is rich in golds and…</td></tr><tr><td>&quot;4d8b92ee4eb68a1b2c0009ab&quot;</td><td>&quot;The Third of May&quot;</td><td>&quot;Painting&quot;</td><td>&quot;https://d32dm0rphc51dk.cloudfr…</td><td>&quot;https://api.artsy.net/api/arti…</td><td>&quot;https://api.artsy.net/api/gene…</td><td>&quot;https://api.artsy.net/api/artw…</td><td>&quot;The image features a somber pa…</td></tr><tr><td>&quot;4d8b93394eb68a1b2c0010fa&quot;</td><td>&quot;The Company of Frans Banning C…</td><td>&quot;Painting&quot;</td><td>&quot;https://d32dm0rphc51dk.cloudfr…</td><td>&quot;https://api.artsy.net/api/arti…</td><td>&quot;https://api.artsy.net/api/gene…</td><td>&quot;https://api.artsy.net/api/artw…</td><td>&quot;The image features a rich pale…</td></tr></tbody></table></div>"
      ],
      "text/plain": [
       "shape: (3, 8)\n",
       "┌────────────┬────────────┬──────────┬────────────┬────────────┬───────────┬───────────┬───────────┐\n",
       "│ id         ┆ title      ┆ category ┆ thumbnail_ ┆ artists_li ┆ genes_lin ┆ similar_l ┆ descripti │\n",
       "│ ---        ┆ ---        ┆ ---      ┆ link       ┆ nk         ┆ k         ┆ ink       ┆ on        │\n",
       "│ str        ┆ str        ┆ str      ┆ ---        ┆ ---        ┆ ---       ┆ ---       ┆ ---       │\n",
       "│            ┆            ┆          ┆ str        ┆ str        ┆ str       ┆ str       ┆ str       │\n",
       "╞════════════╪════════════╪══════════╪════════════╪════════════╪═══════════╪═══════════╪═══════════╡\n",
       "│ 4d8b92eb4e ┆ Der Kuss   ┆ Painting ┆ https://d3 ┆ https://ap ┆ https://a ┆ https://a ┆ The image │\n",
       "│ b68a1b2c00 ┆ (The Kiss) ┆          ┆ 2dm0rphc51 ┆ i.artsy.ne ┆ pi.artsy. ┆ pi.artsy. ┆ is rich   │\n",
       "│ 0968       ┆            ┆          ┆ dk.cloudfr ┆ t/api/arti ┆ net/api/g ┆ net/api/a ┆ in golds  │\n",
       "│            ┆            ┆          ┆ …          ┆ …          ┆ ene…      ┆ rtw…      ┆ and…      │\n",
       "│ 4d8b92ee4e ┆ The Third  ┆ Painting ┆ https://d3 ┆ https://ap ┆ https://a ┆ https://a ┆ The image │\n",
       "│ b68a1b2c00 ┆ of May     ┆          ┆ 2dm0rphc51 ┆ i.artsy.ne ┆ pi.artsy. ┆ pi.artsy. ┆ features  │\n",
       "│ 09ab       ┆            ┆          ┆ dk.cloudfr ┆ t/api/arti ┆ net/api/g ┆ net/api/a ┆ a somber  │\n",
       "│            ┆            ┆          ┆ …          ┆ …          ┆ ene…      ┆ rtw…      ┆ pa…       │\n",
       "│ 4d8b93394e ┆ The        ┆ Painting ┆ https://d3 ┆ https://ap ┆ https://a ┆ https://a ┆ The image │\n",
       "│ b68a1b2c00 ┆ Company of ┆          ┆ 2dm0rphc51 ┆ i.artsy.ne ┆ pi.artsy. ┆ pi.artsy. ┆ features  │\n",
       "│ 10fa       ┆ Frans      ┆          ┆ dk.cloudfr ┆ t/api/arti ┆ net/api/g ┆ net/api/a ┆ a rich    │\n",
       "│            ┆ Banning C… ┆          ┆ …          ┆ …          ┆ ene…      ┆ rtw…      ┆ pale…     │\n",
       "└────────────┴────────────┴──────────┴────────────┴────────────┴───────────┴───────────┴───────────┘"
      ]
     },
     "execution_count": 9,
     "metadata": {},
     "output_type": "execute_result"
    }
   ],
   "source": [
    "artworks_df.head(3)"
   ]
  },
  {
   "cell_type": "code",
   "execution_count": 10,
   "metadata": {},
   "outputs": [
    {
     "data": {
      "text/html": [
       "<div><style>\n",
       ".dataframe > thead > tr,\n",
       ".dataframe > tbody > tr {\n",
       "  text-align: right;\n",
       "  white-space: pre-wrap;\n",
       "}\n",
       "</style>\n",
       "<small>shape: (1, 8)</small><table border=\"1\" class=\"dataframe\"><thead><tr><th>id</th><th>title</th><th>category</th><th>thumbnail_link</th><th>artists_link</th><th>genes_link</th><th>similar_link</th><th>description</th></tr><tr><td>u32</td><td>u32</td><td>u32</td><td>u32</td><td>u32</td><td>u32</td><td>u32</td><td>u32</td></tr></thead><tbody><tr><td>0</td><td>0</td><td>0</td><td>0</td><td>0</td><td>0</td><td>0</td><td>0</td></tr></tbody></table></div>"
      ],
      "text/plain": [
       "shape: (1, 8)\n",
       "┌─────┬───────┬──────────┬────────────────┬──────────────┬────────────┬──────────────┬─────────────┐\n",
       "│ id  ┆ title ┆ category ┆ thumbnail_link ┆ artists_link ┆ genes_link ┆ similar_link ┆ description │\n",
       "│ --- ┆ ---   ┆ ---      ┆ ---            ┆ ---          ┆ ---        ┆ ---          ┆ ---         │\n",
       "│ u32 ┆ u32   ┆ u32      ┆ u32            ┆ u32          ┆ u32        ┆ u32          ┆ u32         │\n",
       "╞═════╪═══════╪══════════╪════════════════╪══════════════╪════════════╪══════════════╪═════════════╡\n",
       "│ 0   ┆ 0     ┆ 0        ┆ 0              ┆ 0            ┆ 0          ┆ 0            ┆ 0           │\n",
       "└─────┴───────┴──────────┴────────────────┴──────────────┴────────────┴──────────────┴─────────────┘"
      ]
     },
     "execution_count": 10,
     "metadata": {},
     "output_type": "execute_result"
    }
   ],
   "source": [
    "artworks_df.null_count()"
   ]
  },
  {
   "cell_type": "markdown",
   "metadata": {},
   "source": [
    "## Artworks Feature Engineering"
   ]
  },
  {
   "cell_type": "code",
   "execution_count": 11,
   "metadata": {},
   "outputs": [
    {
     "data": {
      "text/plain": [
       "(18538, 5)"
      ]
     },
     "execution_count": 11,
     "metadata": {},
     "output_type": "execute_result"
    }
   ],
   "source": [
    "artworks_df = compute_features_artworks(artworks_df)\n",
    "artworks_df.shape\n"
   ]
  },
  {
   "cell_type": "code",
   "execution_count": 12,
   "metadata": {},
   "outputs": [
    {
     "data": {
      "text/html": [
       "<div><style>\n",
       ".dataframe > thead > tr,\n",
       ".dataframe > tbody > tr {\n",
       "  text-align: right;\n",
       "  white-space: pre-wrap;\n",
       "}\n",
       "</style>\n",
       "<small>shape: (5, 5)</small><table border=\"1\" class=\"dataframe\"><thead><tr><th>artwork_id</th><th>title</th><th>category</th><th>thumbnail_link</th><th>description</th></tr><tr><td>str</td><td>str</td><td>str</td><td>str</td><td>str</td></tr></thead><tbody><tr><td>&quot;4d8b92eb4eb68a1b2c000968&quot;</td><td>&quot;Der Kuss (The Kiss)&quot;</td><td>&quot;Painting&quot;</td><td>&quot;https://d32dm0rphc51dk.cloudfr…</td><td>&quot;The image is rich in golds and…</td></tr><tr><td>&quot;4d8b92ee4eb68a1b2c0009ab&quot;</td><td>&quot;The Third of May&quot;</td><td>&quot;Painting&quot;</td><td>&quot;https://d32dm0rphc51dk.cloudfr…</td><td>&quot;The image features a somber pa…</td></tr><tr><td>&quot;4d8b93394eb68a1b2c0010fa&quot;</td><td>&quot;The Company of Frans Banning C…</td><td>&quot;Painting&quot;</td><td>&quot;https://d32dm0rphc51dk.cloudfr…</td><td>&quot;The image features a rich pale…</td></tr><tr><td>&quot;4d8b937c4eb68a1b2c001722&quot;</td><td>&quot;Mona Lisa&quot;</td><td>&quot;Painting&quot;</td><td>&quot;https://d32dm0rphc51dk.cloudfr…</td><td>&quot;The image is characterized by …</td></tr><tr><td>&quot;4d8b93b04eb68a1b2c001b9d&quot;</td><td>&quot;Luncheon on the Grass (Le Déje…</td><td>&quot;Painting&quot;</td><td>&quot;https://d32dm0rphc51dk.cloudfr…</td><td>&quot;The image features a palette o…</td></tr></tbody></table></div>"
      ],
      "text/plain": [
       "shape: (5, 5)\n",
       "┌─────────────────────┬─────────────────────┬──────────┬─────────────────────┬─────────────────────┐\n",
       "│ artwork_id          ┆ title               ┆ category ┆ thumbnail_link      ┆ description         │\n",
       "│ ---                 ┆ ---                 ┆ ---      ┆ ---                 ┆ ---                 │\n",
       "│ str                 ┆ str                 ┆ str      ┆ str                 ┆ str                 │\n",
       "╞═════════════════════╪═════════════════════╪══════════╪═════════════════════╪═════════════════════╡\n",
       "│ 4d8b92eb4eb68a1b2c0 ┆ Der Kuss (The Kiss) ┆ Painting ┆ https://d32dm0rphc5 ┆ The image is rich   │\n",
       "│ 00968               ┆                     ┆          ┆ 1dk.cloudfr…        ┆ in golds and…       │\n",
       "│ 4d8b92ee4eb68a1b2c0 ┆ The Third of May    ┆ Painting ┆ https://d32dm0rphc5 ┆ The image features  │\n",
       "│ 009ab               ┆                     ┆          ┆ 1dk.cloudfr…        ┆ a somber pa…        │\n",
       "│ 4d8b93394eb68a1b2c0 ┆ The Company of      ┆ Painting ┆ https://d32dm0rphc5 ┆ The image features  │\n",
       "│ 010fa               ┆ Frans Banning C…    ┆          ┆ 1dk.cloudfr…        ┆ a rich pale…        │\n",
       "│ 4d8b937c4eb68a1b2c0 ┆ Mona Lisa           ┆ Painting ┆ https://d32dm0rphc5 ┆ The image is        │\n",
       "│ 01722               ┆                     ┆          ┆ 1dk.cloudfr…        ┆ characterized by …  │\n",
       "│ 4d8b93b04eb68a1b2c0 ┆ Luncheon on the     ┆ Painting ┆ https://d32dm0rphc5 ┆ The image features  │\n",
       "│ 01b9d               ┆ Grass (Le Déje…     ┆          ┆ 1dk.cloudfr…        ┆ a palette o…        │\n",
       "└─────────────────────┴─────────────────────┴──────────┴─────────────────────┴─────────────────────┘"
      ]
     },
     "execution_count": 12,
     "metadata": {},
     "output_type": "execute_result"
    }
   ],
   "source": [
    "artworks_df.head()"
   ]
  },
  {
   "cell_type": "markdown",
   "metadata": {},
   "source": [
    "### Create embeddings from the articles description"
   ]
  },
  {
   "cell_type": "code",
   "execution_count": 13,
   "metadata": {},
   "outputs": [
    {
     "name": "stderr",
     "output_type": "stream",
     "text": [
      "\u001b[32m2024-12-22 20:22:40.716\u001b[0m | \u001b[1mINFO    \u001b[0m | \u001b[36m__main__\u001b[0m:\u001b[36m<module>\u001b[0m:\u001b[36m2\u001b[0m - \u001b[1mItem 1:\n",
      "The image is rich in golds and soft pastels, creating a warm, harmonious atmosphere. The mood is intimate and tender, evoking feelings of love and closeness. The aesthetic features intricate patterns and floral motifs, reminiscent of the Art Nouveau style. Overall, it radiates a sense of tranquility and beauty.\u001b[0m\n",
      "\u001b[32m2024-12-22 20:22:40.716\u001b[0m | \u001b[1mINFO    \u001b[0m | \u001b[36m__main__\u001b[0m:\u001b[36m<module>\u001b[0m:\u001b[36m2\u001b[0m - \u001b[1mItem 2:\n",
      "The image features a somber palette dominated by dark tones and stark contrasts, highlighting the brutality of the scene. The mood conveys a sense of despair and urgency, evoking empathy for the victims. The dramatic lighting, particularly the lantern's glow, creates a tension between hope and tragedy. Overall, the aesthetic is visceral and haunting, capturing the raw emotion of human conflict.\u001b[0m\n",
      "\u001b[32m2024-12-22 20:22:40.716\u001b[0m | \u001b[1mINFO    \u001b[0m | \u001b[36m__main__\u001b[0m:\u001b[36m<module>\u001b[0m:\u001b[36m2\u001b[0m - \u001b[1mItem 3:\n",
      "The image features a rich palette of dark hues, contrasted by bright highlights, creating a dramatic tension. The mood is lively yet solemn, capturing a moment of camaraderie and duty. The aesthetic is baroque, characterized by intricate details and a dynamic composition that draws the viewer into the scene. The interplay of light and shadow enhances the sense of depth and narrative.\u001b[0m\n"
     ]
    }
   ],
   "source": [
    "for i, desc in enumerate(artworks_df[\"description\"].head(n=3)):\n",
    "    logger.info(f\"Item {i+1}:\\n{desc}\")"
   ]
  },
  {
   "cell_type": "code",
   "execution_count": 14,
   "metadata": {},
   "outputs": [
    {
     "name": "stderr",
     "output_type": "stream",
     "text": [
      "\u001b[32m2024-12-22 20:22:40.746\u001b[0m | \u001b[1mINFO    \u001b[0m | \u001b[36m__main__\u001b[0m:\u001b[36m<module>\u001b[0m:\u001b[36m8\u001b[0m - \u001b[1mLoading 'all-MiniLM-L6-v2' embedding model to device='mps'\u001b[0m\n"
     ]
    },
    {
     "name": "stdout",
     "output_type": "stream",
     "text": [
      "2024-12-22 20:22:40,747 INFO: Load pretrained SentenceTransformer: all-MiniLM-L6-v2\n"
     ]
    }
   ],
   "source": [
    "device = (\n",
    "    \"cuda\"\n",
    "    if torch.cuda.is_available()\n",
    "    else \"mps\"\n",
    "    if torch.backends.mps.is_available()\n",
    "    else \"cpu\"\n",
    ")\n",
    "logger.info(\n",
    "    f\"Loading '{settings.FEATURES_EMBEDDING_MODEL_ID}' embedding model to {device=}\"\n",
    ")\n",
    "\n",
    "# Load the embedding model from SentenceTransformer's model registry.\n",
    "model = SentenceTransformer(settings.FEATURES_EMBEDDING_MODEL_ID, device=device)"
   ]
  },
  {
   "cell_type": "code",
   "execution_count": 15,
   "metadata": {},
   "outputs": [
    {
     "name": "stderr",
     "output_type": "stream",
     "text": [
      "Generating embeddings: 100%|██████████| 1/1 [00:00<00:00,  8.37it/s]\n"
     ]
    },
    {
     "data": {
      "text/html": [
       "<div><style>\n",
       ".dataframe > thead > tr,\n",
       ".dataframe > tbody > tr {\n",
       "  text-align: right;\n",
       "  white-space: pre-wrap;\n",
       "}\n",
       "</style>\n",
       "<small>shape: (1,)</small><table border=\"1\" class=\"dataframe\"><thead><tr><th>embeddings</th></tr><tr><td>list[f64]</td></tr></thead><tbody><tr><td>[-0.008282, 0.030209, … -0.003906]</td></tr></tbody></table></div>"
      ],
      "text/plain": [
       "shape: (1,)\n",
       "Series: 'embeddings' [list[f64]]\n",
       "[\n",
       "\t[-0.008282, 0.030209, … -0.003906]\n",
       "]"
      ]
     },
     "execution_count": 15,
     "metadata": {},
     "output_type": "execute_result"
    }
   ],
   "source": [
    "embedding = generate_embeddings_for_dataframe(\n",
    "    artworks_df.head(1), \"description\", model, batch_size=128\n",
    ")['embeddings']\n",
    "embedding"
   ]
  },
  {
   "cell_type": "code",
   "execution_count": 16,
   "metadata": {},
   "outputs": [
    {
     "data": {
      "text/plain": [
       "polars.dataframe.frame.DataFrame"
      ]
     },
     "execution_count": 16,
     "metadata": {},
     "output_type": "execute_result"
    }
   ],
   "source": [
    "type(artworks_df)"
   ]
  },
  {
   "cell_type": "code",
   "execution_count": 17,
   "metadata": {},
   "outputs": [
    {
     "data": {
      "text/html": [
       "<div><style>\n",
       ".dataframe > thead > tr,\n",
       ".dataframe > tbody > tr {\n",
       "  text-align: right;\n",
       "  white-space: pre-wrap;\n",
       "}\n",
       "</style>\n",
       "<small>shape: (3, 6)</small><table border=\"1\" class=\"dataframe\"><thead><tr><th>artwork_id</th><th>title</th><th>category</th><th>thumbnail_link</th><th>description</th><th>embeddings</th></tr><tr><td>str</td><td>str</td><td>str</td><td>str</td><td>str</td><td>list[f64]</td></tr></thead><tbody><tr><td>&quot;4d8b92eb4eb68a1b2c000968&quot;</td><td>&quot;Der Kuss (The Kiss)&quot;</td><td>&quot;Painting&quot;</td><td>&quot;https://d32dm0rphc51dk.cloudfr…</td><td>&quot;The image is rich in golds and…</td><td>[-0.008282, 0.030209, … -0.003906]</td></tr><tr><td>&quot;4d8b92ee4eb68a1b2c0009ab&quot;</td><td>&quot;The Third of May&quot;</td><td>&quot;Painting&quot;</td><td>&quot;https://d32dm0rphc51dk.cloudfr…</td><td>&quot;The image features a somber pa…</td><td>[-0.008282, 0.030209, … -0.003906]</td></tr><tr><td>&quot;4d8b93394eb68a1b2c0010fa&quot;</td><td>&quot;The Company of Frans Banning C…</td><td>&quot;Painting&quot;</td><td>&quot;https://d32dm0rphc51dk.cloudfr…</td><td>&quot;The image features a rich pale…</td><td>[-0.008282, 0.030209, … -0.003906]</td></tr></tbody></table></div>"
      ],
      "text/plain": [
       "shape: (3, 6)\n",
       "┌──────────────────┬──────────────────┬──────────┬─────────────────┬─────────────────┬─────────────┐\n",
       "│ artwork_id       ┆ title            ┆ category ┆ thumbnail_link  ┆ description     ┆ embeddings  │\n",
       "│ ---              ┆ ---              ┆ ---      ┆ ---             ┆ ---             ┆ ---         │\n",
       "│ str              ┆ str              ┆ str      ┆ str             ┆ str             ┆ list[f64]   │\n",
       "╞══════════════════╪══════════════════╪══════════╪═════════════════╪═════════════════╪═════════════╡\n",
       "│ 4d8b92eb4eb68a1b ┆ Der Kuss (The    ┆ Painting ┆ https://d32dm0r ┆ The image is    ┆ [-0.008282, │\n",
       "│ 2c000968         ┆ Kiss)            ┆          ┆ phc51dk.cloudfr ┆ rich in golds   ┆ 0.030209, … │\n",
       "│                  ┆                  ┆          ┆ …               ┆ and…            ┆ -0.003…     │\n",
       "│ 4d8b92ee4eb68a1b ┆ The Third of May ┆ Painting ┆ https://d32dm0r ┆ The image       ┆ [-0.008282, │\n",
       "│ 2c0009ab         ┆                  ┆          ┆ phc51dk.cloudfr ┆ features a      ┆ 0.030209, … │\n",
       "│                  ┆                  ┆          ┆ …               ┆ somber pa…      ┆ -0.003…     │\n",
       "│ 4d8b93394eb68a1b ┆ The Company of   ┆ Painting ┆ https://d32dm0r ┆ The image       ┆ [-0.008282, │\n",
       "│ 2c0010fa         ┆ Frans Banning C… ┆          ┆ phc51dk.cloudfr ┆ features a rich ┆ 0.030209, … │\n",
       "│                  ┆                  ┆          ┆ …               ┆ pale…           ┆ -0.003…     │\n",
       "└──────────────────┴──────────────────┴──────────┴─────────────────┴─────────────────┴─────────────┘"
      ]
     },
     "execution_count": 17,
     "metadata": {},
     "output_type": "execute_result"
    }
   ],
   "source": [
    "artworks_df = artworks_df.with_columns(\n",
    "    pl.lit(embedding[0].to_list()).alias(\"embeddings\")\n",
    ")\n",
    "artworks_df.head(3)"
   ]
  },
  {
   "cell_type": "code",
   "execution_count": 18,
   "metadata": {},
   "outputs": [
    {
     "name": "stderr",
     "output_type": "stream",
     "text": [
      "Generating embeddings: 100%|██████████| 18538/18538 [01:30<00:00, 205.10it/s]\n"
     ]
    }
   ],
   "source": [
    "artworks_df = generate_embeddings_for_dataframe(\n",
    "    artworks_df, \"description\", model, batch_size=128\n",
    ")  # Reduce batch size if getting OOM errors."
   ]
  },
  {
   "cell_type": "markdown",
   "metadata": {},
   "source": [
    "For each artwork description, we have a numerical vector which we can feed to a model, opposite to a string containing the description of an object."
   ]
  },
  {
   "cell_type": "code",
   "execution_count": 19,
   "metadata": {},
   "outputs": [
    {
     "data": {
      "text/html": [
       "<div><style>\n",
       ".dataframe > thead > tr,\n",
       ".dataframe > tbody > tr {\n",
       "  text-align: right;\n",
       "  white-space: pre-wrap;\n",
       "}\n",
       "</style>\n",
       "<small>shape: (3, 2)</small><table border=\"1\" class=\"dataframe\"><thead><tr><th>description</th><th>embeddings</th></tr><tr><td>str</td><td>list[f64]</td></tr></thead><tbody><tr><td>&quot;The image is rich in golds and…</td><td>[-0.008282, 0.030209, … -0.003906]</td></tr><tr><td>&quot;The image features a somber pa…</td><td>[0.058479, 0.083046, … 0.008479]</td></tr><tr><td>&quot;The image features a rich pale…</td><td>[0.012057, 0.037521, … 0.004547]</td></tr></tbody></table></div>"
      ],
      "text/plain": [
       "shape: (3, 2)\n",
       "┌─────────────────────────────────┬─────────────────────────────────┐\n",
       "│ description                     ┆ embeddings                      │\n",
       "│ ---                             ┆ ---                             │\n",
       "│ str                             ┆ list[f64]                       │\n",
       "╞═════════════════════════════════╪═════════════════════════════════╡\n",
       "│ The image is rich in golds and… ┆ [-0.008282, 0.030209, … -0.003… │\n",
       "│ The image features a somber pa… ┆ [0.058479, 0.083046, … 0.00847… │\n",
       "│ The image features a rich pale… ┆ [0.012057, 0.037521, … 0.00454… │\n",
       "└─────────────────────────────────┴─────────────────────────────────┘"
      ]
     },
     "execution_count": 19,
     "metadata": {},
     "output_type": "execute_result"
    }
   ],
   "source": [
    "artworks_df[[\"description\", \"embeddings\"]].head(3)"
   ]
  },
  {
   "cell_type": "markdown",
   "metadata": {},
   "source": [
    "## Looking at image links"
   ]
  },
  {
   "cell_type": "code",
   "execution_count": 20,
   "metadata": {},
   "outputs": [
    {
     "data": {
      "text/plain": [
       "'https://d32dm0rphc51dk.cloudfront.net/NOpIAwQa-3r51Cg9qXKbfA/medium.jpg'"
      ]
     },
     "execution_count": 20,
     "metadata": {},
     "output_type": "execute_result"
    }
   ],
   "source": [
    "artworks_df[\"thumbnail_link\"][0]"
   ]
  },
  {
   "cell_type": "code",
   "execution_count": 21,
   "metadata": {},
   "outputs": [
    {
     "data": {
      "text/html": [
       "<div style=\"display: grid; grid-template-columns: repeat(6, 1fr); gap: 10px; max-width: 900px;\"><img src=\"https://d32dm0rphc51dk.cloudfront.net/zWJHbiYf9csKWBouYL8NPQ/medium.jpg\" style=\"width: 100%; height: auto;\"><img src=\"https://d32dm0rphc51dk.cloudfront.net/vBvIC0FOpsljnryLKUFYkA/medium.jpg\" style=\"width: 100%; height: auto;\"><img src=\"https://d32dm0rphc51dk.cloudfront.net/LRpIKE9MJxaVwlUMP1Aw3g/medium.jpg\" style=\"width: 100%; height: auto;\"><img src=\"https://d32dm0rphc51dk.cloudfront.net/BO_-54_cOXz7wNJvn-dQNQ/medium.jpg\" style=\"width: 100%; height: auto;\"><img src=\"https://d32dm0rphc51dk.cloudfront.net/j9y6XItWm8BhBcm-Lc7vmw/medium.jpg\" style=\"width: 100%; height: auto;\"><img src=\"https://d32dm0rphc51dk.cloudfront.net/jgqvrhmMb0gRtROFN-z60A/medium.jpg\" style=\"width: 100%; height: auto;\"><img src=\"https://d32dm0rphc51dk.cloudfront.net/XarxRsig0vT6093cH0sBwQ/medium.jpg\" style=\"width: 100%; height: auto;\"><img src=\"https://d32dm0rphc51dk.cloudfront.net/dH0_hMSQtvqz-_Abqbb4rA/medium.jpg\" style=\"width: 100%; height: auto;\"><img src=\"https://d32dm0rphc51dk.cloudfront.net/oL-tkP90pwIqVB-gSqbUXQ/medium.jpg\" style=\"width: 100%; height: auto;\"><img src=\"https://d32dm0rphc51dk.cloudfront.net/yIvkjT5tVsvLzken4IMHZA/medium.jpg\" style=\"width: 100%; height: auto;\"><img src=\"https://d32dm0rphc51dk.cloudfront.net/6z5Gus_ciqKXLVAMK4ME5w/medium.jpg\" style=\"width: 100%; height: auto;\"><img src=\"https://d32dm0rphc51dk.cloudfront.net/36WfjJwAi6T0QnzbNZYlRw/medium.jpg\" style=\"width: 100%; height: auto;\"></div>"
      ],
      "text/plain": [
       "<IPython.core.display.HTML object>"
      ]
     },
     "metadata": {},
     "output_type": "display_data"
    }
   ],
   "source": [
    "from IPython.display import HTML, display\n",
    "\n",
    "image_urls = artworks_df[\"thumbnail_link\"].tail(12).to_list()\n",
    "grid_html = '<div style=\"display: grid; grid-template-columns: repeat(6, 1fr); gap: 10px; max-width: 900px;\">'\n",
    "\n",
    "for url in image_urls:\n",
    "    grid_html += f'<img src=\"{url}\" style=\"width: 100%; height: auto;\">'\n",
    "\n",
    "grid_html += \"</div>\"\n",
    "\n",
    "display(HTML(grid_html))\n"
   ]
  },
  {
   "cell_type": "markdown",
   "metadata": {},
   "source": [
    "# Users Data"
   ]
  },
  {
   "cell_type": "code",
   "execution_count": 25,
   "metadata": {},
   "outputs": [
    {
     "data": {
      "text/plain": [
       "(54000, 5)"
      ]
     },
     "execution_count": 25,
     "metadata": {},
     "output_type": "execute_result"
    }
   ],
   "source": [
    "users_df = pl.read_csv(\"../data/updated_user_details.csv\")\n",
    "users_df.shape\n"
   ]
  },
  {
   "cell_type": "markdown",
   "metadata": {},
   "source": [
    "The users DataFrame looks as follows:"
   ]
  },
  {
   "cell_type": "code",
   "execution_count": 26,
   "metadata": {},
   "outputs": [
    {
     "data": {
      "text/html": [
       "<div><style>\n",
       ".dataframe > thead > tr,\n",
       ".dataframe > tbody > tr {\n",
       "  text-align: right;\n",
       "  white-space: pre-wrap;\n",
       "}\n",
       "</style>\n",
       "<small>shape: (3, 5)</small><table border=\"1\" class=\"dataframe\"><thead><tr><th>user_id</th><th>literal</th><th>age</th><th>gender</th><th>preference</th></tr><tr><td>str</td><td>str</td><td>i64</td><td>str</td><td>str</td></tr></thead><tbody><tr><td>&quot;69ff63b1-4803-49c9-8585-3b0f47…</td><td>&quot;[Abbaye du Gard pres d&#x27; Abbevi…</td><td>42</td><td>&quot;Male&quot;</td><td>&quot;Impressionism&quot;</td></tr><tr><td>&quot;81cd5866-14fb-4968-80f2-accf84…</td><td>&quot;[Italian Landscape, Sunset (So…</td><td>48</td><td>&quot;Female&quot;</td><td>&quot;Impressionism&quot;</td></tr><tr><td>&quot;83e00911-6b5a-44d3-9edb-3c02a2…</td><td>&quot;[The Church of Souain, The Sei…</td><td>56</td><td>&quot;Female&quot;</td><td>&quot;Impressionism&quot;</td></tr></tbody></table></div>"
      ],
      "text/plain": [
       "shape: (3, 5)\n",
       "┌─────────────────────────────────┬─────────────────────────────────┬─────┬────────┬───────────────┐\n",
       "│ user_id                         ┆ literal                         ┆ age ┆ gender ┆ preference    │\n",
       "│ ---                             ┆ ---                             ┆ --- ┆ ---    ┆ ---           │\n",
       "│ str                             ┆ str                             ┆ i64 ┆ str    ┆ str           │\n",
       "╞═════════════════════════════════╪═════════════════════════════════╪═════╪════════╪═══════════════╡\n",
       "│ 69ff63b1-4803-49c9-8585-3b0f47… ┆ [Abbaye du Gard pres d' Abbevi… ┆ 42  ┆ Male   ┆ Impressionism │\n",
       "│ 81cd5866-14fb-4968-80f2-accf84… ┆ [Italian Landscape, Sunset (So… ┆ 48  ┆ Female ┆ Impressionism │\n",
       "│ 83e00911-6b5a-44d3-9edb-3c02a2… ┆ [The Church of Souain, The Sei… ┆ 56  ┆ Female ┆ Impressionism │\n",
       "└─────────────────────────────────┴─────────────────────────────────┴─────┴────────┴───────────────┘"
      ]
     },
     "execution_count": 26,
     "metadata": {},
     "output_type": "execute_result"
    }
   ],
   "source": [
    "users_df.head(3)"
   ]
  },
  {
   "cell_type": "markdown",
   "metadata": {},
   "source": [
    "Check for nulls"
   ]
  },
  {
   "cell_type": "code",
   "execution_count": 27,
   "metadata": {},
   "outputs": [
    {
     "data": {
      "text/html": [
       "<div><style>\n",
       ".dataframe > thead > tr,\n",
       ".dataframe > tbody > tr {\n",
       "  text-align: right;\n",
       "  white-space: pre-wrap;\n",
       "}\n",
       "</style>\n",
       "<small>shape: (1, 5)</small><table border=\"1\" class=\"dataframe\"><thead><tr><th>user_id</th><th>literal</th><th>age</th><th>gender</th><th>preference</th></tr><tr><td>u32</td><td>u32</td><td>u32</td><td>u32</td><td>u32</td></tr></thead><tbody><tr><td>0</td><td>0</td><td>0</td><td>0</td><td>0</td></tr></tbody></table></div>"
      ],
      "text/plain": [
       "shape: (1, 5)\n",
       "┌─────────┬─────────┬─────┬────────┬────────────┐\n",
       "│ user_id ┆ literal ┆ age ┆ gender ┆ preference │\n",
       "│ ---     ┆ ---     ┆ --- ┆ ---    ┆ ---        │\n",
       "│ u32     ┆ u32     ┆ u32 ┆ u32    ┆ u32        │\n",
       "╞═════════╪═════════╪═════╪════════╪════════════╡\n",
       "│ 0       ┆ 0       ┆ 0   ┆ 0      ┆ 0          │\n",
       "└─────────┴─────────┴─────┴────────┴────────────┘"
      ]
     },
     "execution_count": 27,
     "metadata": {},
     "output_type": "execute_result"
    }
   ],
   "source": [
    "users_df.null_count()"
   ]
  },
  {
   "cell_type": "markdown",
   "metadata": {},
   "source": [
    "# Users feature engineering"
   ]
  },
  {
   "cell_type": "code",
   "execution_count": 28,
   "metadata": {},
   "outputs": [
    {
     "data": {
      "text/plain": [
       "(54000, 6)"
      ]
     },
     "execution_count": 28,
     "metadata": {},
     "output_type": "execute_result"
    }
   ],
   "source": [
    "users_df = compute_features_users(users_df, drop_null_age=True)\n",
    "users_df.shape"
   ]
  },
  {
   "cell_type": "markdown",
   "metadata": {},
   "source": [
    "# Transactions Data\n",
    "These are the artworks a user likes"
   ]
  },
  {
   "cell_type": "code",
   "execution_count": 29,
   "metadata": {},
   "outputs": [
    {
     "data": {
      "text/plain": [
       "(306100, 4)"
      ]
     },
     "execution_count": 29,
     "metadata": {},
     "output_type": "execute_result"
    }
   ],
   "source": [
    "transactions_df = pl.read_csv(\"../data/transaction-data.csv\")\n",
    "transactions_df.shape"
   ]
  },
  {
   "cell_type": "markdown",
   "metadata": {},
   "source": [
    "Transactions DataFrame looks as follows"
   ]
  },
  {
   "cell_type": "code",
   "execution_count": 30,
   "metadata": {},
   "outputs": [
    {
     "data": {
      "text/html": [
       "<div><style>\n",
       ".dataframe > thead > tr,\n",
       ".dataframe > tbody > tr {\n",
       "  text-align: right;\n",
       "  white-space: pre-wrap;\n",
       "}\n",
       "</style>\n",
       "<small>shape: (3, 4)</small><table border=\"1\" class=\"dataframe\"><thead><tr><th>transaction_id</th><th>user_id</th><th>artwork_id</th><th>thumbnail_link</th></tr><tr><td>str</td><td>str</td><td>str</td><td>str</td></tr></thead><tbody><tr><td>&quot;f9f34e02-f51d-42ff-ada2-928728…</td><td>&quot;636d1fa7-a3c2-4fe6-b278-265d29…</td><td>&quot;516cbb4a0f8b7853440003fe&quot;</td><td>&quot;https://d32dm0rphc51dk.cloudfr…</td></tr><tr><td>&quot;7f8ba386-bfe0-4c0a-b71e-c45c9b…</td><td>&quot;8cea0e10-c960-44e9-b404-bc3047…</td><td>&quot;516cbfd89ad2d38886000142&quot;</td><td>&quot;https://d32dm0rphc51dk.cloudfr…</td></tr><tr><td>&quot;a2f1abf6-b58b-4f4a-a0ba-ee2fba…</td><td>&quot;5ab9bc35-c1e5-4d99-bddd-499653…</td><td>&quot;515b45c0223afa29bd000948&quot;</td><td>&quot;https://d32dm0rphc51dk.cloudfr…</td></tr></tbody></table></div>"
      ],
      "text/plain": [
       "shape: (3, 4)\n",
       "┌────────────────────────┬────────────────────────┬────────────────────────┬───────────────────────┐\n",
       "│ transaction_id         ┆ user_id                ┆ artwork_id             ┆ thumbnail_link        │\n",
       "│ ---                    ┆ ---                    ┆ ---                    ┆ ---                   │\n",
       "│ str                    ┆ str                    ┆ str                    ┆ str                   │\n",
       "╞════════════════════════╪════════════════════════╪════════════════════════╪═══════════════════════╡\n",
       "│ f9f34e02-f51d-42ff-ada ┆ 636d1fa7-a3c2-4fe6-b27 ┆ 516cbb4a0f8b7853440003 ┆ https://d32dm0rphc51d │\n",
       "│ 2-928728…              ┆ 8-265d29…              ┆ fe                     ┆ k.cloudfr…            │\n",
       "│ 7f8ba386-bfe0-4c0a-b71 ┆ 8cea0e10-c960-44e9-b40 ┆ 516cbfd89ad2d388860001 ┆ https://d32dm0rphc51d │\n",
       "│ e-c45c9b…              ┆ 4-bc3047…              ┆ 42                     ┆ k.cloudfr…            │\n",
       "│ a2f1abf6-b58b-4f4a-a0b ┆ 5ab9bc35-c1e5-4d99-bdd ┆ 515b45c0223afa29bd0009 ┆ https://d32dm0rphc51d │\n",
       "│ a-ee2fba…              ┆ d-499653…              ┆ 48                     ┆ k.cloudfr…            │\n",
       "└────────────────────────┴────────────────────────┴────────────────────────┴───────────────────────┘"
      ]
     },
     "execution_count": 30,
     "metadata": {},
     "output_type": "execute_result"
    }
   ],
   "source": [
    "transactions_df.head(3)"
   ]
  },
  {
   "cell_type": "code",
   "execution_count": 31,
   "metadata": {},
   "outputs": [
    {
     "data": {
      "text/html": [
       "<div><style>\n",
       ".dataframe > thead > tr,\n",
       ".dataframe > tbody > tr {\n",
       "  text-align: right;\n",
       "  white-space: pre-wrap;\n",
       "}\n",
       "</style>\n",
       "<small>shape: (3, 5)</small><table border=\"1\" class=\"dataframe\"><thead><tr><th>transaction_id</th><th>user_id</th><th>artwork_id</th><th>thumbnail_link</th><th>t_dat</th></tr><tr><td>str</td><td>str</td><td>str</td><td>str</td><td>datetime[μs]</td></tr></thead><tbody><tr><td>&quot;f9f34e02-f51d-42ff-ada2-928728…</td><td>&quot;636d1fa7-a3c2-4fe6-b278-265d29…</td><td>&quot;516cbb4a0f8b7853440003fe&quot;</td><td>&quot;https://d32dm0rphc51dk.cloudfr…</td><td>2024-12-22 20:24:27.784716</td></tr><tr><td>&quot;7f8ba386-bfe0-4c0a-b71e-c45c9b…</td><td>&quot;8cea0e10-c960-44e9-b404-bc3047…</td><td>&quot;516cbfd89ad2d38886000142&quot;</td><td>&quot;https://d32dm0rphc51dk.cloudfr…</td><td>2024-12-22 20:24:27.784716</td></tr><tr><td>&quot;a2f1abf6-b58b-4f4a-a0ba-ee2fba…</td><td>&quot;5ab9bc35-c1e5-4d99-bddd-499653…</td><td>&quot;515b45c0223afa29bd000948&quot;</td><td>&quot;https://d32dm0rphc51dk.cloudfr…</td><td>2024-12-22 20:24:27.784716</td></tr></tbody></table></div>"
      ],
      "text/plain": [
       "shape: (3, 5)\n",
       "┌───────────────────┬───────────────────┬───────────────────┬───────────────────┬──────────────────┐\n",
       "│ transaction_id    ┆ user_id           ┆ artwork_id        ┆ thumbnail_link    ┆ t_dat            │\n",
       "│ ---               ┆ ---               ┆ ---               ┆ ---               ┆ ---              │\n",
       "│ str               ┆ str               ┆ str               ┆ str               ┆ datetime[μs]     │\n",
       "╞═══════════════════╪═══════════════════╪═══════════════════╪═══════════════════╪══════════════════╡\n",
       "│ f9f34e02-f51d-42f ┆ 636d1fa7-a3c2-4fe ┆ 516cbb4a0f8b78534 ┆ https://d32dm0rph ┆ 2024-12-22       │\n",
       "│ f-ada2-928728…    ┆ 6-b278-265d29…    ┆ 40003fe           ┆ c51dk.cloudfr…    ┆ 20:24:27.784716  │\n",
       "│ 7f8ba386-bfe0-4c0 ┆ 8cea0e10-c960-44e ┆ 516cbfd89ad2d3888 ┆ https://d32dm0rph ┆ 2024-12-22       │\n",
       "│ a-b71e-c45c9b…    ┆ 9-b404-bc3047…    ┆ 6000142           ┆ c51dk.cloudfr…    ┆ 20:24:27.784716  │\n",
       "│ a2f1abf6-b58b-4f4 ┆ 5ab9bc35-c1e5-4d9 ┆ 515b45c0223afa29b ┆ https://d32dm0rph ┆ 2024-12-22       │\n",
       "│ a-a0ba-ee2fba…    ┆ 9-bddd-499653…    ┆ d000948           ┆ c51dk.cloudfr…    ┆ 20:24:27.784716  │\n",
       "└───────────────────┴───────────────────┴───────────────────┴───────────────────┴──────────────────┘"
      ]
     },
     "execution_count": 31,
     "metadata": {},
     "output_type": "execute_result"
    }
   ],
   "source": [
    "from datetime import datetime\n",
    "t_dat = datetime.today()\n",
    "# t_dat = datetime.today().strftime('%Y-%m-%d')\n",
    "transactions_df = (\n",
    "    transactions_df.with_columns(t_dat=pl.lit(t_dat))\n",
    ")\n",
    "\n",
    "transactions_df.head(3)"
   ]
  },
  {
   "cell_type": "markdown",
   "metadata": {},
   "source": [
    "# Transactions Feature Engineering"
   ]
  },
  {
   "cell_type": "code",
   "execution_count": 32,
   "metadata": {},
   "outputs": [
    {
     "data": {
      "text/plain": [
       "(306100, 9)"
      ]
     },
     "execution_count": 32,
     "metadata": {},
     "output_type": "execute_result"
    }
   ],
   "source": [
    "transactions_df = compute_features_transactions(transactions_df)\n",
    "transactions_df.shape"
   ]
  },
  {
   "cell_type": "code",
   "execution_count": 33,
   "metadata": {},
   "outputs": [
    {
     "data": {
      "text/html": [
       "<div><style>\n",
       ".dataframe > thead > tr,\n",
       ".dataframe > tbody > tr {\n",
       "  text-align: right;\n",
       "  white-space: pre-wrap;\n",
       "}\n",
       "</style>\n",
       "<small>shape: (3, 9)</small><table border=\"1\" class=\"dataframe\"><thead><tr><th>transaction_id</th><th>user_id</th><th>artwork_id</th><th>thumbnail_link</th><th>t_dat</th><th>year</th><th>month</th><th>day</th><th>day_of_week</th></tr><tr><td>str</td><td>str</td><td>str</td><td>str</td><td>i64</td><td>i32</td><td>i8</td><td>i8</td><td>i8</td></tr></thead><tbody><tr><td>&quot;f9f34e02-f51d-42ff-ada2-928728…</td><td>&quot;636d1fa7-a3c2-4fe6-b278-265d29…</td><td>&quot;516cbb4a0f8b7853440003fe&quot;</td><td>&quot;https://d32dm0rphc51dk.cloudfr…</td><td>1734899067</td><td>2024</td><td>12</td><td>22</td><td>7</td></tr><tr><td>&quot;7f8ba386-bfe0-4c0a-b71e-c45c9b…</td><td>&quot;8cea0e10-c960-44e9-b404-bc3047…</td><td>&quot;516cbfd89ad2d38886000142&quot;</td><td>&quot;https://d32dm0rphc51dk.cloudfr…</td><td>1734899067</td><td>2024</td><td>12</td><td>22</td><td>7</td></tr><tr><td>&quot;a2f1abf6-b58b-4f4a-a0ba-ee2fba…</td><td>&quot;5ab9bc35-c1e5-4d99-bddd-499653…</td><td>&quot;515b45c0223afa29bd000948&quot;</td><td>&quot;https://d32dm0rphc51dk.cloudfr…</td><td>1734899067</td><td>2024</td><td>12</td><td>22</td><td>7</td></tr></tbody></table></div>"
      ],
      "text/plain": [
       "shape: (3, 9)\n",
       "┌──────────────┬──────────────┬──────────────┬──────────────┬───┬──────┬───────┬─────┬─────────────┐\n",
       "│ transaction_ ┆ user_id      ┆ artwork_id   ┆ thumbnail_li ┆ … ┆ year ┆ month ┆ day ┆ day_of_week │\n",
       "│ id           ┆ ---          ┆ ---          ┆ nk           ┆   ┆ ---  ┆ ---   ┆ --- ┆ ---         │\n",
       "│ ---          ┆ str          ┆ str          ┆ ---          ┆   ┆ i32  ┆ i8    ┆ i8  ┆ i8          │\n",
       "│ str          ┆              ┆              ┆ str          ┆   ┆      ┆       ┆     ┆             │\n",
       "╞══════════════╪══════════════╪══════════════╪══════════════╪═══╪══════╪═══════╪═════╪═════════════╡\n",
       "│ f9f34e02-f51 ┆ 636d1fa7-a3c ┆ 516cbb4a0f8b ┆ https://d32d ┆ … ┆ 2024 ┆ 12    ┆ 22  ┆ 7           │\n",
       "│ d-42ff-ada2- ┆ 2-4fe6-b278- ┆ 7853440003fe ┆ m0rphc51dk.c ┆   ┆      ┆       ┆     ┆             │\n",
       "│ 928728…      ┆ 265d29…      ┆              ┆ loudfr…      ┆   ┆      ┆       ┆     ┆             │\n",
       "│ 7f8ba386-bfe ┆ 8cea0e10-c96 ┆ 516cbfd89ad2 ┆ https://d32d ┆ … ┆ 2024 ┆ 12    ┆ 22  ┆ 7           │\n",
       "│ 0-4c0a-b71e- ┆ 0-44e9-b404- ┆ d38886000142 ┆ m0rphc51dk.c ┆   ┆      ┆       ┆     ┆             │\n",
       "│ c45c9b…      ┆ bc3047…      ┆              ┆ loudfr…      ┆   ┆      ┆       ┆     ┆             │\n",
       "│ a2f1abf6-b58 ┆ 5ab9bc35-c1e ┆ 515b45c0223a ┆ https://d32d ┆ … ┆ 2024 ┆ 12    ┆ 22  ┆ 7           │\n",
       "│ b-4f4a-a0ba- ┆ 5-4d99-bddd- ┆ fa29bd000948 ┆ m0rphc51dk.c ┆   ┆      ┆       ┆     ┆             │\n",
       "│ ee2fba…      ┆ 499653…      ┆              ┆ loudfr…      ┆   ┆      ┆       ┆     ┆             │\n",
       "└──────────────┴──────────────┴──────────────┴──────────────┴───┴──────┴───────┴─────┴─────────────┘"
      ]
     },
     "execution_count": 33,
     "metadata": {},
     "output_type": "execute_result"
    }
   ],
   "source": [
    "transactions_df.head(3)"
   ]
  },
  {
   "cell_type": "markdown",
   "metadata": {},
   "source": [
    "We don't want to work with ~300k transactions in these series, as everything will take too much time to run. Thus, we create a subset of the original dataset by randomly sampling from the users' datasets and taking only their transactions."
   ]
  },
  {
   "cell_type": "code",
   "execution_count": 34,
   "metadata": {},
   "outputs": [
    {
     "name": "stderr",
     "output_type": "stream",
     "text": [
      "\u001b[32m2024-12-22 20:24:29.552\u001b[0m | \u001b[1mINFO    \u001b[0m | \u001b[36mrecsys.features.users\u001b[0m:\u001b[36msample\u001b[0m:\u001b[36m29\u001b[0m - \u001b[1mSampling 1000 users.\u001b[0m\n",
      "\u001b[32m2024-12-22 20:24:29.553\u001b[0m | \u001b[1mINFO    \u001b[0m | \u001b[36mrecsys.features.users\u001b[0m:\u001b[36msample\u001b[0m:\u001b[36m32\u001b[0m - \u001b[1mNumber of transactions for all the users: 306100\u001b[0m\n",
      "\u001b[32m2024-12-22 20:24:29.562\u001b[0m | \u001b[1mINFO    \u001b[0m | \u001b[36mrecsys.features.users\u001b[0m:\u001b[36msample\u001b[0m:\u001b[36m38\u001b[0m - \u001b[1mNumber of transactions for the 1000 sampled users: 5606\u001b[0m\n"
     ]
    }
   ],
   "source": [
    "sampler = DatasetSampler(size=settings.USER_DATA_SIZE)\n",
    "dataset_subset = sampler.sample(\n",
    "    users_df=users_df, transations_df=transactions_df\n",
    ")\n",
    "users_df = dataset_subset[\"users\"]\n",
    "transactions_df = dataset_subset[\"transactions\"]"
   ]
  },
  {
   "cell_type": "code",
   "execution_count": 35,
   "metadata": {},
   "outputs": [
    {
     "data": {
      "text/plain": [
       "(5606, 9)"
      ]
     },
     "execution_count": 35,
     "metadata": {},
     "output_type": "execute_result"
    }
   ],
   "source": [
    "transactions_df.shape"
   ]
  },
  {
   "cell_type": "markdown",
   "metadata": {},
   "source": [
    "Some of the remaining customers"
   ]
  },
  {
   "cell_type": "code",
   "execution_count": 36,
   "metadata": {},
   "outputs": [
    {
     "name": "stderr",
     "output_type": "stream",
     "text": [
      "\u001b[32m2024-12-22 20:24:29.626\u001b[0m | \u001b[1mINFO    \u001b[0m | \u001b[36m__main__\u001b[0m:\u001b[36m<module>\u001b[0m:\u001b[36m2\u001b[0m - \u001b[1mLogging user ID: 676c7c59-c2fb-4840-985a-b177c8cc8310\u001b[0m\n",
      "\u001b[32m2024-12-22 20:24:29.626\u001b[0m | \u001b[1mINFO    \u001b[0m | \u001b[36m__main__\u001b[0m:\u001b[36m<module>\u001b[0m:\u001b[36m2\u001b[0m - \u001b[1mLogging user ID: f19b25fa-e9ca-4c56-9066-229ecb2c305f\u001b[0m\n",
      "\u001b[32m2024-12-22 20:24:29.627\u001b[0m | \u001b[1mINFO    \u001b[0m | \u001b[36m__main__\u001b[0m:\u001b[36m<module>\u001b[0m:\u001b[36m2\u001b[0m - \u001b[1mLogging user ID: 01b29e84-3e35-44d1-8e59-ab8fa6cbe205\u001b[0m\n",
      "\u001b[32m2024-12-22 20:24:29.627\u001b[0m | \u001b[1mINFO    \u001b[0m | \u001b[36m__main__\u001b[0m:\u001b[36m<module>\u001b[0m:\u001b[36m2\u001b[0m - \u001b[1mLogging user ID: 2dfabf75-62f8-4fbe-a7e9-a09fd8357d4f\u001b[0m\n",
      "\u001b[32m2024-12-22 20:24:29.627\u001b[0m | \u001b[1mINFO    \u001b[0m | \u001b[36m__main__\u001b[0m:\u001b[36m<module>\u001b[0m:\u001b[36m2\u001b[0m - \u001b[1mLogging user ID: 97fe2438-f741-420e-bb76-57d9a80b5d6f\u001b[0m\n",
      "\u001b[32m2024-12-22 20:24:29.627\u001b[0m | \u001b[1mINFO    \u001b[0m | \u001b[36m__main__\u001b[0m:\u001b[36m<module>\u001b[0m:\u001b[36m2\u001b[0m - \u001b[1mLogging user ID: 3d692dbf-4530-473b-8345-6890b063dfcc\u001b[0m\n",
      "\u001b[32m2024-12-22 20:24:29.627\u001b[0m | \u001b[1mINFO    \u001b[0m | \u001b[36m__main__\u001b[0m:\u001b[36m<module>\u001b[0m:\u001b[36m2\u001b[0m - \u001b[1mLogging user ID: 560e4f40-fe88-4085-b40b-fa29a34bc59b\u001b[0m\n",
      "\u001b[32m2024-12-22 20:24:29.628\u001b[0m | \u001b[1mINFO    \u001b[0m | \u001b[36m__main__\u001b[0m:\u001b[36m<module>\u001b[0m:\u001b[36m2\u001b[0m - \u001b[1mLogging user ID: 663cbad7-47d2-4389-9a89-c470bb730f36\u001b[0m\n",
      "\u001b[32m2024-12-22 20:24:29.628\u001b[0m | \u001b[1mINFO    \u001b[0m | \u001b[36m__main__\u001b[0m:\u001b[36m<module>\u001b[0m:\u001b[36m2\u001b[0m - \u001b[1mLogging user ID: c44d00e7-72b2-447b-af3f-ab76057617aa\u001b[0m\n",
      "\u001b[32m2024-12-22 20:24:29.628\u001b[0m | \u001b[1mINFO    \u001b[0m | \u001b[36m__main__\u001b[0m:\u001b[36m<module>\u001b[0m:\u001b[36m2\u001b[0m - \u001b[1mLogging user ID: bc106e9e-8220-419d-baaa-0ef24f66049f\u001b[0m\n"
     ]
    }
   ],
   "source": [
    "for user_id in transactions_df[\"user_id\"].unique().head(10):\n",
    "    logger.info(f\"Logging user ID: {user_id}\")"
   ]
  },
  {
   "cell_type": "markdown",
   "metadata": {},
   "source": [
    "# 🤳🏻 Interaction data\n",
    "\n",
    "To train our models, we need more than just the transactions DataFrame. We need positive samples that signal whether a user clicked or liked an item, but we also need negative samples that signal no interactions between a user and an artwork."
   ]
  },
  {
   "cell_type": "code",
   "execution_count": 37,
   "metadata": {},
   "outputs": [
    {
     "name": "stderr",
     "output_type": "stream",
     "text": [
      "Processing user chunks: 100%|██████████| 1/1 [00:00<00:00,  1.05it/s]\n"
     ]
    },
    {
     "data": {
      "text/plain": [
       "(93520, 5)"
      ]
     },
     "execution_count": 37,
     "metadata": {},
     "output_type": "execute_result"
    }
   ],
   "source": [
    "interaction_df = generate_interaction_data(transactions_df)\n",
    "interaction_df.shape"
   ]
  },
  {
   "cell_type": "markdown",
   "metadata": {},
   "source": [
    "The interaction features look as follows:"
   ]
  },
  {
   "cell_type": "code",
   "execution_count": 38,
   "metadata": {},
   "outputs": [
    {
     "data": {
      "text/html": [
       "<div><style>\n",
       ".dataframe > thead > tr,\n",
       ".dataframe > tbody > tr {\n",
       "  text-align: right;\n",
       "  white-space: pre-wrap;\n",
       "}\n",
       "</style>\n",
       "<small>shape: (5, 5)</small><table border=\"1\" class=\"dataframe\"><thead><tr><th>t_dat</th><th>user_id</th><th>artwork_id</th><th>interaction_score</th><th>prev_artwork_id</th></tr><tr><td>i64</td><td>str</td><td>str</td><td>i64</td><td>str</td></tr></thead><tbody><tr><td>1364099067</td><td>&quot;00306dfa-3c17-4709-b9f4-834502…</td><td>&quot;4fcf9efbcaabe500010018a7&quot;</td><td>0</td><td>&quot;START&quot;</td></tr><tr><td>1364099067</td><td>&quot;00306dfa-3c17-4709-b9f4-834502…</td><td>&quot;515b98f7ea092ff579000389&quot;</td><td>0</td><td>&quot;4fcf9efbcaabe500010018a7&quot;</td></tr><tr><td>1364099067</td><td>&quot;00306dfa-3c17-4709-b9f4-834502…</td><td>&quot;515cc3d8b5907bf7e800026f&quot;</td><td>0</td><td>&quot;515b98f7ea092ff579000389&quot;</td></tr><tr><td>1374899067</td><td>&quot;00306dfa-3c17-4709-b9f4-834502…</td><td>&quot;515b98f7ea092ff579000389&quot;</td><td>0</td><td>&quot;515cc3d8b5907bf7e800026f&quot;</td></tr><tr><td>1403699067</td><td>&quot;00306dfa-3c17-4709-b9f4-834502…</td><td>&quot;515b44b89562c86fb800232a&quot;</td><td>0</td><td>&quot;515b98f7ea092ff579000389&quot;</td></tr></tbody></table></div>"
      ],
      "text/plain": [
       "shape: (5, 5)\n",
       "┌────────────┬─────────────────────┬─────────────────────┬───────────────────┬─────────────────────┐\n",
       "│ t_dat      ┆ user_id             ┆ artwork_id          ┆ interaction_score ┆ prev_artwork_id     │\n",
       "│ ---        ┆ ---                 ┆ ---                 ┆ ---               ┆ ---                 │\n",
       "│ i64        ┆ str                 ┆ str                 ┆ i64               ┆ str                 │\n",
       "╞════════════╪═════════════════════╪═════════════════════╪═══════════════════╪═════════════════════╡\n",
       "│ 1364099067 ┆ 00306dfa-3c17-4709- ┆ 4fcf9efbcaabe500010 ┆ 0                 ┆ START               │\n",
       "│            ┆ b9f4-834502…        ┆ 018a7               ┆                   ┆                     │\n",
       "│ 1364099067 ┆ 00306dfa-3c17-4709- ┆ 515b98f7ea092ff5790 ┆ 0                 ┆ 4fcf9efbcaabe500010 │\n",
       "│            ┆ b9f4-834502…        ┆ 00389               ┆                   ┆ 018a7               │\n",
       "│ 1364099067 ┆ 00306dfa-3c17-4709- ┆ 515cc3d8b5907bf7e80 ┆ 0                 ┆ 515b98f7ea092ff5790 │\n",
       "│            ┆ b9f4-834502…        ┆ 0026f               ┆                   ┆ 00389               │\n",
       "│ 1374899067 ┆ 00306dfa-3c17-4709- ┆ 515b98f7ea092ff5790 ┆ 0                 ┆ 515cc3d8b5907bf7e80 │\n",
       "│            ┆ b9f4-834502…        ┆ 00389               ┆                   ┆ 0026f               │\n",
       "│ 1403699067 ┆ 00306dfa-3c17-4709- ┆ 515b44b89562c86fb80 ┆ 0                 ┆ 515b98f7ea092ff5790 │\n",
       "│            ┆ b9f4-834502…        ┆ 0232a               ┆                   ┆ 00389               │\n",
       "└────────────┴─────────────────────┴─────────────────────┴───────────────────┴─────────────────────┘"
      ]
     },
     "execution_count": 38,
     "metadata": {},
     "output_type": "execute_result"
    }
   ],
   "source": [
    "interaction_df.head()"
   ]
  },
  {
   "cell_type": "markdown",
   "metadata": {},
   "source": [
    "Let's take a look at the interaction score distribution"
   ]
  },
  {
   "cell_type": "code",
   "execution_count": 39,
   "metadata": {},
   "outputs": [
    {
     "data": {
      "text/html": [
       "<div><style>\n",
       ".dataframe > thead > tr,\n",
       ".dataframe > tbody > tr {\n",
       "  text-align: right;\n",
       "  white-space: pre-wrap;\n",
       "}\n",
       "</style>\n",
       "<small>shape: (3, 2)</small><table border=\"1\" class=\"dataframe\"><thead><tr><th>interaction_score</th><th>total_interactions</th></tr><tr><td>i64</td><td>u32</td></tr></thead><tbody><tr><td>0</td><td>74193</td></tr><tr><td>1</td><td>13721</td></tr><tr><td>2</td><td>5606</td></tr></tbody></table></div>"
      ],
      "text/plain": [
       "shape: (3, 2)\n",
       "┌───────────────────┬────────────────────┐\n",
       "│ interaction_score ┆ total_interactions │\n",
       "│ ---               ┆ ---                │\n",
       "│ i64               ┆ u32                │\n",
       "╞═══════════════════╪════════════════════╡\n",
       "│ 0                 ┆ 74193              │\n",
       "│ 1                 ┆ 13721              │\n",
       "│ 2                 ┆ 5606               │\n",
       "└───────────────────┴────────────────────┘"
      ]
     },
     "execution_count": 39,
     "metadata": {},
     "output_type": "execute_result"
    }
   ],
   "source": [
    "interaction_df.group_by(\"interaction_score\").agg(\n",
    "    pl.count(\"interaction_score\").alias(\"total_interactions\")\n",
    ")"
   ]
  },
  {
   "cell_type": "markdown",
   "metadata": {},
   "source": [
    "Here is what each score means:\n",
    "- `0` : No interaction between a user and an artwork\n",
    "- `1` : A user clicked an artwork\n",
    "- `2` : A cuser liked an item"
   ]
  },
  {
   "cell_type": "markdown",
   "metadata": {},
   "source": [
    "# <span style=\"color:#ff5f27\">🪄 Create Hopsworks Feature Groups </span>\n",
    "\n",
    "A [feature group](https://docs.hopsworks.ai/feature-store-api/latest/generated/feature_group/) can be seen as a collection of conceptually related features.\n",
    "\n",
    "To create a feature group you need to give it a name and specify a primary key. It is also best practice to provide a description of the contents of the feature group."
   ]
  },
  {
   "cell_type": "markdown",
   "metadata": {},
   "source": [
    "#### Users\n",
    "\n",
    "We set `online_enabled=True` to enable low-latency access to the data from the inference pipeline for real-time predictions. \n",
    "\n",
    "A full list of arguments can be found in the [documentation](https://docs.hopsworks.ai/feature-store-api/latest/generated/api/feature_store_api/#create_feature_group)."
   ]
  },
  {
   "cell_type": "code",
   "execution_count": 44,
   "metadata": {},
   "outputs": [
    {
     "name": "stderr",
     "output_type": "stream",
     "text": [
      "\u001b[32m2024-12-22 20:27:10.783\u001b[0m | \u001b[1mINFO    \u001b[0m | \u001b[36m__main__\u001b[0m:\u001b[36m<module>\u001b[0m:\u001b[36m1\u001b[0m - \u001b[1mUploading 'users' Feature Group to Hopsworks.\u001b[0m\n",
      "Uploading Dataframe: 100.00% |██████████| Rows 1000/1000 | Elapsed Time: 00:04 | Remaining Time: 00:00\n"
     ]
    },
    {
     "name": "stdout",
     "output_type": "stream",
     "text": [
      "Launching job: users_1_offline_fg_materialization\n",
      "Job started successfully, you can follow the progress at \n",
      "https://c.app.hopsworks.ai:443/p/1197208/jobs/named/users_1_offline_fg_materialization/executions\n",
      "2024-12-22 20:27:32,189 INFO: Waiting for execution to finish. Current state: SUBMITTED. Final status: UNDEFINED\n",
      "2024-12-22 20:27:35,400 INFO: Waiting for execution to finish. Current state: RUNNING. Final status: UNDEFINED\n",
      "2024-12-22 20:29:12,046 INFO: Waiting for execution to finish. Current state: AGGREGATING_LOGS. Final status: SUCCEEDED\n",
      "2024-12-22 20:29:12,213 INFO: Waiting for log aggregation to finish.\n",
      "2024-12-22 20:29:21,133 INFO: Execution finished successfully.\n"
     ]
    },
    {
     "name": "stderr",
     "output_type": "stream",
     "text": [
      "\u001b[32m2024-12-22 20:29:24.281\u001b[0m | \u001b[1mINFO    \u001b[0m | \u001b[36m__main__\u001b[0m:\u001b[36m<module>\u001b[0m:\u001b[36m6\u001b[0m - \u001b[1m✅ Uploaded 'users' Feature Group to Hopsworks!\u001b[0m\n"
     ]
    }
   ],
   "source": [
    "logger.info(\"Uploading 'users' Feature Group to Hopsworks.\")\n",
    "users_fg = feature_store.create_users_feature_group(\n",
    "    fs, df=users_df, online_enabled=True\n",
    ")\n",
    "\n",
    "logger.info(\"✅ Uploaded 'users' Feature Group to Hopsworks!\")"
   ]
  },
  {
   "cell_type": "markdown",
   "metadata": {},
   "source": [
    "#### Artworks\n",
    "\n",
    "Let's do the same thing for the rest of the data frames"
   ]
  },
  {
   "cell_type": "code",
   "execution_count": null,
   "metadata": {},
   "outputs": [
    {
     "name": "stderr",
     "output_type": "stream",
     "text": [
      "\u001b[32m2024-12-22 20:42:06.954\u001b[0m | \u001b[1mINFO    \u001b[0m | \u001b[36m__main__\u001b[0m:\u001b[36m<module>\u001b[0m:\u001b[36m1\u001b[0m - \u001b[1mUploading 'artworks' Feature Group to Hopsworks.\u001b[0m\n",
      "%6|1734896571.349|FAIL|rdkafka#producer-3| [thrd:ssl://51.161.81.188:9093/bootstrap]: ssl://51.161.81.188:9093/1: Disconnected (after 49998ms in state UP, 1 identical error(s) suppressed)\n",
      "%6|1734896572.089|FAIL|rdkafka#producer-3| [thrd:ssl://51.161.81.208:9093/bootstrap]: ssl://51.161.81.208:9093/2: Disconnected (after 49997ms in state UP, 1 identical error(s) suppressed)\n",
      "%6|1734896622.222|FAIL|rdkafka#producer-3| [thrd:ssl://51.161.80.189:9093/bootstrap]: ssl://51.161.80.189:9093/0: Disconnected (after 100214ms in state UP, 1 identical error(s) suppressed)\n",
      "%6|1734896675.906|FAIL|rdkafka#producer-3| [thrd:ssl://51.161.80.189:9093/bootstrap]: ssl://51.161.80.189:9093/0: Disconnected (after 50658ms in state UP, 1 identical error(s) suppressed)\n",
      "%6|1734896676.675|FAIL|rdkafka#producer-3| [thrd:ssl://51.161.81.208:9093/bootstrap]: ssl://51.161.81.208:9093/2: Disconnected (after 50033ms in state UP, 1 identical error(s) suppressed)\n",
      "%6|1734896705.317|FAIL|rdkafka#producer-9| [thrd:ssl://51.161.80.189:9093/bootstrap]: ssl://51.161.80.189:9093/0: Disconnected (after 175657ms in state UP)\n",
      "%6|1734896723.929|FAIL|rdkafka#producer-9| [thrd:ssl://51.161.81.208:9093/bootstrap]: ssl://51.161.81.208:9093/2: Disconnected (after 193021ms in state UP)\n",
      "%6|1734896726.813|FAIL|rdkafka#producer-3| [thrd:ssl://51.161.81.188:9093/bootstrap]: ssl://51.161.81.188:9093/1: Disconnected (after 101060ms in state UP, 1 identical error(s) suppressed)\n",
      "%5|1734896738.990|REQTMOUT|rdkafka#producer-3| [thrd:ssl://51.161.81.188:9093/bootstrap]: ssl://51.161.81.188:9093/1: Timed out ApiVersionRequest in flight (after 10009ms, timeout #0)\n",
      "%4|1734896738.991|FAIL|rdkafka#producer-3| [thrd:ssl://51.161.81.188:9093/bootstrap]: ssl://51.161.81.188:9093/1: ApiVersionRequest failed: Local: Timed out: probably due to broker version < 0.10 (see api.version.request configuration) (after 10009ms in state APIVERSION_QUERY)\n",
      "%4|1734896738.991|REQTMOUT|rdkafka#producer-3| [thrd:ssl://51.161.81.188:9093/bootstrap]: ssl://51.161.81.188:9093/1: Timed out 1 in-flight, 0 retry-queued, 0 out-queue, 0 partially-sent requests\n",
      "%6|1734896779.466|FAIL|rdkafka#producer-3| [thrd:ssl://51.161.81.208:9093/bootstrap]: ssl://51.161.81.208:9093/2: Disconnected (after 50009ms in state UP, 1 identical error(s) suppressed)\n",
      "%6|1734896829.611|FAIL|rdkafka#producer-3| [thrd:ssl://51.161.80.189:9093/bootstrap]: ssl://51.161.80.189:9093/0: Disconnected (after 98686ms in state UP, 1 identical error(s) suppressed)\n",
      "%4|1734896839.666|REQTMOUT|rdkafka#producer-9| [thrd:ssl://51.161.81.188:9093/bootstrap]: ssl://51.161.81.188:9093/1: Timed out 0 in-flight, 0 retry-queued, 1 out-queue, 1 partially-sent requests\n",
      "%3|1734896839.667|FAIL|rdkafka#producer-9| [thrd:ssl://51.161.81.188:9093/bootstrap]: ssl://51.161.81.188:9093/1: 1 request(s) timed out: disconnect (after 301673ms in state UP)\n"
     ]
    },
    {
     "name": "stderr",
     "output_type": "stream",
     "text": []
    }
   ],
   "source": [
    "logger.info(\"Uploading 'artworks' Feature Group to Hopsworks.\")\n",
    "artworks_fg = feature_store.create_artworks_feature_group(\n",
    "    fs,\n",
    "    df=artworks_df,\n",
    "    artworks_description_embedding_dim=model.get_sentence_embedding_dimension(),\n",
    "    online_enabled=True,\n",
    ")\n",
    "logger.info(\"✅ Uploaded 'artworks' Feature Group to Hopsworks!\")\n"
   ]
  },
  {
   "cell_type": "markdown",
   "metadata": {},
   "source": [
    "#### Transactions"
   ]
  },
  {
   "cell_type": "code",
   "execution_count": 45,
   "metadata": {},
   "outputs": [
    {
     "name": "stderr",
     "output_type": "stream",
     "text": [
      "\u001b[32m2024-12-22 20:35:11.310\u001b[0m | \u001b[1mINFO    \u001b[0m | \u001b[36m__main__\u001b[0m:\u001b[36m<module>\u001b[0m:\u001b[36m1\u001b[0m - \u001b[1mUploading 'transactions' Feature Group to Hopsworks.\u001b[0m\n"
     ]
    },
    {
     "name": "stdout",
     "output_type": "stream",
     "text": [
      "ERROR! Session/line number was not unique in database. History logging moved to new session 70\n"
     ]
    },
    {
     "name": "stderr",
     "output_type": "stream",
     "text": [
      "Uploading Dataframe: 100.00% |██████████| Rows 5606/5606 | Elapsed Time: 00:05 | Remaining Time: 00:00\n"
     ]
    },
    {
     "name": "stdout",
     "output_type": "stream",
     "text": [
      "Launching job: transactions_1_offline_fg_materialization\n"
     ]
    },
    {
     "name": "stderr",
     "output_type": "stream",
     "text": [
      "%6|1734896124.236|FAIL|rdkafka#producer-3| [thrd:ssl://51.161.81.208:9093/bootstrap]: ssl://51.161.81.208:9093/2: Disconnected (after 150981ms in state UP)\n"
     ]
    },
    {
     "name": "stdout",
     "output_type": "stream",
     "text": [
      "Job started successfully, you can follow the progress at \n",
      "https://c.app.hopsworks.ai:443/p/1197208/jobs/named/transactions_1_offline_fg_materialization/executions\n",
      "2024-12-22 20:35:32,808 INFO: Waiting for execution to finish. Current state: SUBMITTED. Final status: UNDEFINED\n",
      "2024-12-22 20:35:35,992 INFO: Waiting for execution to finish. Current state: RUNNING. Final status: UNDEFINED\n"
     ]
    },
    {
     "name": "stderr",
     "output_type": "stream",
     "text": [
      "%6|1734896174.362|FAIL|rdkafka#producer-3| [thrd:ssl://51.161.81.188:9093/bootstrap]: ssl://51.161.81.188:9093/1: Disconnected (after 98635ms in state UP)\n",
      "%6|1734896226.853|FAIL|rdkafka#producer-3| [thrd:ssl://51.161.81.188:9093/bootstrap]: ssl://51.161.81.188:9093/1: Disconnected (after 49675ms in state UP, 1 identical error(s) suppressed)\n",
      "%6|1734896228.506|FAIL|rdkafka#producer-3| [thrd:ssl://51.161.81.208:9093/bootstrap]: ssl://51.161.81.208:9093/2: Disconnected (after 50044ms in state UP, 1 identical error(s) suppressed)\n"
     ]
    },
    {
     "name": "stdout",
     "output_type": "stream",
     "text": [
      "2024-12-22 20:37:12,200 INFO: Waiting for execution to finish. Current state: AGGREGATING_LOGS. Final status: SUCCEEDED\n",
      "2024-12-22 20:37:12,369 INFO: Waiting for log aggregation to finish.\n",
      "2024-12-22 20:37:28,348 INFO: Execution finished successfully.\n"
     ]
    },
    {
     "name": "stderr",
     "output_type": "stream",
     "text": [
      "\u001b[32m2024-12-22 20:37:34.094\u001b[0m | \u001b[1mINFO    \u001b[0m | \u001b[36m__main__\u001b[0m:\u001b[36m<module>\u001b[0m:\u001b[36m5\u001b[0m - \u001b[1m✅ Uploaded 'transactions' Feature Group to Hopsworks!\u001b[0m\n"
     ]
    }
   ],
   "source": [
    "logger.info(\"Uploading 'transactions' Feature Group to Hopsworks.\")\n",
    "trans_fg = feature_store.create_transactions_feature_group(\n",
    "    fs=fs, df=transactions_df, online_enabled=True\n",
    ")\n",
    "logger.info(\"✅ Uploaded 'transactions' Feature Group to Hopsworks!\")"
   ]
  },
  {
   "cell_type": "markdown",
   "metadata": {},
   "source": [
    "#### Interactions"
   ]
  },
  {
   "cell_type": "code",
   "execution_count": 46,
   "metadata": {},
   "outputs": [
    {
     "name": "stderr",
     "output_type": "stream",
     "text": [
      "\u001b[32m2024-12-22 20:37:34.144\u001b[0m | \u001b[1mINFO    \u001b[0m | \u001b[36m__main__\u001b[0m:\u001b[36m<module>\u001b[0m:\u001b[36m1\u001b[0m - \u001b[1mUploading 'interactions' Feature Group to Hopsworks.\u001b[0m\n",
      "%6|1734896278.645|FAIL|rdkafka#producer-3| [thrd:ssl://51.161.80.189:9093/bootstrap]: ssl://51.161.80.189:9093/0: Disconnected (after 100263ms in state UP, 1 identical error(s) suppressed)\n",
      "%6|1734896330.771|FAIL|rdkafka#producer-3| [thrd:ssl://51.161.81.208:9093/bootstrap]: ssl://51.161.81.208:9093/2: Disconnected (after 50000ms in state UP, 1 identical error(s) suppressed)\n",
      "%6|1734896331.631|FAIL|rdkafka#producer-3| [thrd:ssl://51.161.81.188:9093/bootstrap]: ssl://51.161.81.188:9093/1: Disconnected (after 49300ms in state UP, 1 identical error(s) suppressed)\n",
      "Uploading Dataframe: 100.00% |██████████| Rows 93520/93520 | Elapsed Time: 01:20 | Remaining Time: 00:00\n"
     ]
    },
    {
     "name": "stdout",
     "output_type": "stream",
     "text": [
      "Launching job: interactions_1_offline_fg_materialization\n",
      "Job started successfully, you can follow the progress at \n",
      "https://c.app.hopsworks.ai:443/p/1197208/jobs/named/interactions_1_offline_fg_materialization/executions\n",
      "2024-12-22 20:39:10,958 INFO: Waiting for execution to finish. Current state: SUBMITTED. Final status: UNDEFINED\n",
      "2024-12-22 20:39:14,267 INFO: Waiting for execution to finish. Current state: RUNNING. Final status: UNDEFINED\n"
     ]
    },
    {
     "name": "stderr",
     "output_type": "stream",
     "text": [
      "%6|1734896415.268|FAIL|rdkafka#producer-3| [thrd:ssl://51.161.80.189:9093/bootstrap]: ssl://51.161.80.189:9093/0: Disconnected (after 132448ms in state UP, 1 identical error(s) suppressed)\n"
     ]
    },
    {
     "name": "stdout",
     "output_type": "stream",
     "text": [
      "2024-12-22 20:41:06,231 INFO: Waiting for execution to finish. Current state: AGGREGATING_LOGS. Final status: SUCCEEDED\n",
      "2024-12-22 20:41:06,398 INFO: Waiting for log aggregation to finish.\n"
     ]
    },
    {
     "name": "stderr",
     "output_type": "stream",
     "text": [
      "%6|1734896467.491|FAIL|rdkafka#producer-3| [thrd:ssl://51.161.81.208:9093/bootstrap]: ssl://51.161.81.208:9093/2: Disconnected (after 49755ms in state UP, 1 identical error(s) suppressed)\n",
      "%6|1734896468.313|FAIL|rdkafka#producer-3| [thrd:ssl://51.161.81.188:9093/bootstrap]: ssl://51.161.81.188:9093/1: Disconnected (after 50001ms in state UP, 1 identical error(s) suppressed)\n"
     ]
    },
    {
     "name": "stdout",
     "output_type": "stream",
     "text": [
      "2024-12-22 20:41:28,655 INFO: Execution finished successfully.\n"
     ]
    },
    {
     "name": "stderr",
     "output_type": "stream",
     "text": [
      "\u001b[32m2024-12-22 20:41:32.492\u001b[0m | \u001b[1mINFO    \u001b[0m | \u001b[36m__main__\u001b[0m:\u001b[36m<module>\u001b[0m:\u001b[36m5\u001b[0m - \u001b[1m✅ Uploaded 'interactions' Feature Group to Hopsworks!!\u001b[0m\n"
     ]
    }
   ],
   "source": [
    "logger.info(\"Uploading 'interactions' Feature Group to Hopsworks.\")\n",
    "interactions_fg = feature_store.create_interactions_feature_group(\n",
    "    fs=fs, df=interaction_df, online_enabled=True\n",
    ")\n",
    "logger.info(\"✅ Uploaded 'interactions' Feature Group to Hopsworks!!\")"
   ]
  },
  {
   "cell_type": "code",
   "execution_count": 48,
   "metadata": {},
   "outputs": [
    {
     "name": "stdout",
     "output_type": "stream",
     "text": [
      "ERROR! Session/line number was not unique in database. History logging moved to new session 71\n"
     ]
    }
   ],
   "source": [
    "# import hopsworks \n",
    "# project = hopsworks.login(api_key_value=\"H\")\n",
    "# fs = project.get_feature_store(name='id2223artsy_featurestore')\n",
    "artworks_fg = fs.get_feature_group('artworks', version=1)"
   ]
  },
  {
   "cell_type": "markdown",
   "metadata": {},
   "source": [
    "# Compute ranking dataset\n",
    "\n",
    "The last step is to compute the ranking dataset used to train the scoring/ranking model from the feature groups we've just created:\n"
   ]
  },
  {
   "cell_type": "code",
   "execution_count": null,
   "metadata": {},
   "outputs": [],
   "source": [
    "# ranking_df = compute_ranking_dataset(\n",
    "#     trans_fg,\n",
    "#     artworks_fg,\n",
    "#     users_fg,\n",
    "# )\n",
    "# ranking_df.shape"
   ]
  },
  {
   "cell_type": "markdown",
   "metadata": {},
   "source": [
    "The ranking dataset looks as follows:"
   ]
  },
  {
   "cell_type": "code",
   "execution_count": 41,
   "metadata": {},
   "outputs": [
    {
     "data": {
      "text/plain": [
       "(61666, 7)"
      ]
     },
     "execution_count": 41,
     "metadata": {},
     "output_type": "execute_result"
    }
   ],
   "source": [
    "ranking_df = compute_ranking_dataset2(\n",
    "    transactions_df,\n",
    "    artworks_df,\n",
    "    users_df,\n",
    ")\n",
    "ranking_df.shape"
   ]
  },
  {
   "cell_type": "code",
   "execution_count": 42,
   "metadata": {},
   "outputs": [
    {
     "data": {
      "text/html": [
       "<div><style>\n",
       ".dataframe > thead > tr,\n",
       ".dataframe > tbody > tr {\n",
       "  text-align: right;\n",
       "  white-space: pre-wrap;\n",
       "}\n",
       "</style>\n",
       "<small>shape: (3, 7)</small><table border=\"1\" class=\"dataframe\"><thead><tr><th>user_id</th><th>age</th><th>artwork_id</th><th>label</th><th>title</th><th>description</th><th>category</th></tr><tr><td>str</td><td>f64</td><td>str</td><td>i32</td><td>str</td><td>str</td><td>str</td></tr></thead><tbody><tr><td>&quot;a0ed6728-dc2d-4fb8-b0dc-f6a32e…</td><td>28.0</td><td>&quot;516cbff8fdc441ac4400017e&quot;</td><td>1</td><td>&quot;Old Man with a Beard&quot;</td><td>&quot;The image features deep, dark …</td><td>&quot;Print&quot;</td></tr><tr><td>&quot;a0ed6728-dc2d-4fb8-b0dc-f6a32e…</td><td>28.0</td><td>&quot;515bc80a94714c1d2e001dd3&quot;</td><td>1</td><td>&quot;Francesco Goya y Lucientes, Pi…</td><td>&quot;The image features a muted col…</td><td>&quot;Print&quot;</td></tr><tr><td>&quot;a0ed6728-dc2d-4fb8-b0dc-f6a32e…</td><td>28.0</td><td>&quot;515b34d538ad2dfb2f000605&quot;</td><td>1</td><td>&quot;Anfiteatro Flavio detto il Col…</td><td>&quot;The etching presents a monochr…</td><td>&quot;Print&quot;</td></tr></tbody></table></div>"
      ],
      "text/plain": [
       "shape: (3, 7)\n",
       "┌──────────────────┬──────┬─────────────────┬───────┬─────────────────┬─────────────────┬──────────┐\n",
       "│ user_id          ┆ age  ┆ artwork_id      ┆ label ┆ title           ┆ description     ┆ category │\n",
       "│ ---              ┆ ---  ┆ ---             ┆ ---   ┆ ---             ┆ ---             ┆ ---      │\n",
       "│ str              ┆ f64  ┆ str             ┆ i32   ┆ str             ┆ str             ┆ str      │\n",
       "╞══════════════════╪══════╪═════════════════╪═══════╪═════════════════╪═════════════════╪══════════╡\n",
       "│ a0ed6728-dc2d-4f ┆ 28.0 ┆ 516cbff8fdc441a ┆ 1     ┆ Old Man with a  ┆ The image       ┆ Print    │\n",
       "│ b8-b0dc-f6a32e…  ┆      ┆ c4400017e       ┆       ┆ Beard           ┆ features deep,  ┆          │\n",
       "│                  ┆      ┆                 ┆       ┆                 ┆ dark …          ┆          │\n",
       "│ a0ed6728-dc2d-4f ┆ 28.0 ┆ 515bc80a94714c1 ┆ 1     ┆ Francesco Goya  ┆ The image       ┆ Print    │\n",
       "│ b8-b0dc-f6a32e…  ┆      ┆ d2e001dd3       ┆       ┆ y Lucientes,    ┆ features a      ┆          │\n",
       "│                  ┆      ┆                 ┆       ┆ Pi…             ┆ muted col…      ┆          │\n",
       "│ a0ed6728-dc2d-4f ┆ 28.0 ┆ 515b34d538ad2df ┆ 1     ┆ Anfiteatro      ┆ The etching     ┆ Print    │\n",
       "│ b8-b0dc-f6a32e…  ┆      ┆ b2f000605       ┆       ┆ Flavio detto il ┆ presents a      ┆          │\n",
       "│                  ┆      ┆                 ┆       ┆ Col…            ┆ monochr…        ┆          │\n",
       "└──────────────────┴──────┴─────────────────┴───────┴─────────────────┴─────────────────┴──────────┘"
      ]
     },
     "execution_count": 42,
     "metadata": {},
     "output_type": "execute_result"
    }
   ],
   "source": [
    "ranking_df.head(3)"
   ]
  },
  {
   "cell_type": "code",
   "execution_count": 43,
   "metadata": {},
   "outputs": [
    {
     "data": {
      "text/html": [
       "<div><style>\n",
       ".dataframe > thead > tr,\n",
       ".dataframe > tbody > tr {\n",
       "  text-align: right;\n",
       "  white-space: pre-wrap;\n",
       "}\n",
       "</style>\n",
       "<small>shape: (2, 2)</small><table border=\"1\" class=\"dataframe\"><thead><tr><th>label</th><th>count</th></tr><tr><td>i32</td><td>u32</td></tr></thead><tbody><tr><td>0</td><td>56060</td></tr><tr><td>1</td><td>5606</td></tr></tbody></table></div>"
      ],
      "text/plain": [
       "shape: (2, 2)\n",
       "┌───────┬───────┐\n",
       "│ label ┆ count │\n",
       "│ ---   ┆ ---   │\n",
       "│ i32   ┆ u32   │\n",
       "╞═══════╪═══════╡\n",
       "│ 0     ┆ 56060 │\n",
       "│ 1     ┆ 5606  │\n",
       "└───────┴───────┘"
      ]
     },
     "execution_count": 43,
     "metadata": {},
     "output_type": "execute_result"
    }
   ],
   "source": [
    "ranking_df.get_column(\"label\").value_counts()"
   ]
  },
  {
   "cell_type": "code",
   "execution_count": 50,
   "metadata": {},
   "outputs": [
    {
     "name": "stderr",
     "output_type": "stream",
     "text": [
      "\u001b[32m2024-12-22 20:48:26.743\u001b[0m | \u001b[1mINFO    \u001b[0m | \u001b[36m__main__\u001b[0m:\u001b[36m<module>\u001b[0m:\u001b[36m1\u001b[0m - \u001b[1mUploading 'ranking' Feature Group to Hopsworks.\u001b[0m\n"
     ]
    },
    {
     "name": "stdout",
     "output_type": "stream",
     "text": [
      "Feature Group created successfully, explore it at \n",
      "https://c.app.hopsworks.ai:443/p/1197208/fs/1186887/fg/1393125\n"
     ]
    },
    {
     "name": "stderr",
     "output_type": "stream",
     "text": [
      "\n",
      "\u001b[A\n",
      "\u001b[A\n",
      "\u001b[A\n",
      "\u001b[A%6|1734896932.296|FAIL|rdkafka#producer-3| [thrd:ssl://51.161.81.188:9093/bootstrap]: ssl://51.161.81.188:9093/1: Disconnected (after 97599ms in state UP)\n",
      "\n",
      "\u001b[A\n",
      "\u001b[A\n",
      "\u001b[A%6|1734896943.193|FAIL|rdkafka#producer-9| [thrd:ssl://51.161.81.188:9093/bootstrap]: ssl://51.161.81.188:9093/1: Disconnected (after 99812ms in state UP)\n",
      "\n",
      "\u001b[A\n",
      "\u001b[A\n",
      "\u001b[A\n",
      "\u001b[A\n",
      "\u001b[A\n",
      "\u001b[A\n",
      "\u001b[A\n",
      "\u001b[A%6|1734896984.538|FAIL|rdkafka#producer-3| [thrd:ssl://51.161.81.208:9093/bootstrap]: ssl://51.161.81.208:9093/2: Disconnected (after 49700ms in state UP, 1 identical error(s) suppressed)\n",
      "%6|1734896985.710|FAIL|rdkafka#producer-3| [thrd:ssl://51.161.80.189:9093/bootstrap]: ssl://51.161.80.189:9093/0: Disconnected (after 49438ms in state UP, 1 identical error(s) suppressed)\n",
      "\n",
      "\u001b[A\n",
      "\u001b[A%6|1734896995.383|FAIL|rdkafka#producer-9| [thrd:ssl://51.161.81.188:9093/bootstrap]: ssl://51.161.81.188:9093/1: Disconnected (after 49997ms in state UP, 1 identical error(s) suppressed)\n",
      "%6|1734896995.730|FAIL|rdkafka#producer-9| [thrd:ssl://51.161.80.189:9093/bootstrap]: ssl://51.161.80.189:9093/0: Disconnected (after 49862ms in state UP, 1 identical error(s) suppressed)\n",
      "\n",
      "\u001b[A\n",
      "\u001b[A\n",
      "\u001b[A\n",
      "\u001b[A\n",
      "\u001b[A\n",
      "\u001b[A\n",
      "\u001b[A\n",
      "\u001b[A%6|1734897036.201|FAIL|rdkafka#producer-3| [thrd:ssl://51.161.81.188:9093/bootstrap]: ssl://51.161.81.188:9093/1: Disconnected (after 99350ms in state UP, 1 identical error(s) suppressed)\n",
      "\n",
      "\u001b[A\n",
      "\u001b[A\n",
      "\u001b[A%6|1734897046.065|FAIL|rdkafka#producer-9| [thrd:ssl://51.161.81.208:9093/bootstrap]: ssl://51.161.81.208:9093/2: Disconnected (after 99266ms in state UP, 1 identical error(s) suppressed)\n",
      "\n",
      "\u001b[A\n",
      "\u001b[A\n",
      "\u001b[A\n",
      "\u001b[A\n",
      "\u001b[A\n",
      "\u001b[A\n",
      "\u001b[A%6|1734897088.214|FAIL|rdkafka#producer-3| [thrd:ssl://51.161.81.188:9093/bootstrap]: ssl://51.161.81.188:9093/1: Disconnected (after 49999ms in state UP, 1 identical error(s) suppressed)\n",
      "%6|1734897088.755|FAIL|rdkafka#producer-3| [thrd:ssl://51.161.81.208:9093/bootstrap]: ssl://51.161.81.208:9093/2: Disconnected (after 49858ms in state UP, 1 identical error(s) suppressed)\n",
      "\n",
      "\u001b[A%6|1734897096.528|FAIL|rdkafka#producer-11| [thrd:ssl://51.161.81.188:9093/bootstrap]: ssl://51.161.81.188:9093/1: Disconnected (after 184200ms in state UP)\n",
      "%6|1734897097.813|FAIL|rdkafka#producer-9| [thrd:ssl://51.161.81.188:9093/bootstrap]: ssl://51.161.81.188:9093/1: Disconnected (after 49721ms in state UP, 1 identical error(s) suppressed)\n",
      "%6|1734897099.681|FAIL|rdkafka#producer-9| [thrd:ssl://51.161.80.189:9093/bootstrap]: ssl://51.161.80.189:9093/0: Disconnected (after 50000ms in state UP, 1 identical error(s) suppressed)\n",
      "\n",
      "\u001b[A\n",
      "\u001b[A\n",
      "\u001b[A\n",
      "Uploading Dataframe: 100.00% |██████████| Rows 61666/61666 | Elapsed Time: 03:33 | Remaining Time: 00:00\n"
     ]
    },
    {
     "name": "stdout",
     "output_type": "stream",
     "text": [
      "Launching job: ranking_1_offline_fg_materialization\n",
      "Job started successfully, you can follow the progress at \n",
      "https://c.app.hopsworks.ai:443/p/1197208/jobs/named/ranking_1_offline_fg_materialization/executions\n"
     ]
    },
    {
     "name": "stderr",
     "output_type": "stream",
     "text": [
      "%6|1734897138.889|FAIL|rdkafka#producer-3| [thrd:ssl://51.161.80.189:9093/bootstrap]: ssl://51.161.80.189:9093/0: Disconnected (after 98849ms in state UP, 1 identical error(s) suppressed)\n"
     ]
    },
    {
     "name": "stdout",
     "output_type": "stream",
     "text": [
      "2024-12-22 20:52:19,439 INFO: Waiting for execution to finish. Current state: SUBMITTED. Final status: UNDEFINED\n",
      "2024-12-22 20:52:22,611 INFO: Waiting for execution to finish. Current state: RUNNING. Final status: UNDEFINED\n"
     ]
    },
    {
     "name": "stderr",
     "output_type": "stream",
     "text": [
      "%6|1734897177.813|FAIL|rdkafka#producer-9| [thrd:ssl://51.161.81.208:9093/bootstrap]: ssl://51.161.81.208:9093/2: Disconnected (after 127537ms in state UP, 1 identical error(s) suppressed)\n",
      "%6|1734897191.529|FAIL|rdkafka#producer-3| [thrd:ssl://51.161.81.188:9093/bootstrap]: ssl://51.161.81.188:9093/1: Disconnected (after 49997ms in state UP, 1 identical error(s) suppressed)\n",
      "%6|1734897191.549|FAIL|rdkafka#producer-3| [thrd:ssl://51.161.81.208:9093/bootstrap]: ssl://51.161.81.208:9093/2: Disconnected (after 49999ms in state UP, 1 identical error(s) suppressed)\n",
      "%6|1734897229.581|FAIL|rdkafka#producer-9| [thrd:ssl://51.161.80.189:9093/bootstrap]: ssl://51.161.80.189:9093/0: Disconnected (after 50001ms in state UP, 1 identical error(s) suppressed)\n",
      "%6|1734897229.947|FAIL|rdkafka#producer-9| [thrd:ssl://51.161.81.188:9093/bootstrap]: ssl://51.161.81.188:9093/1: Disconnected (after 50000ms in state UP, 1 identical error(s) suppressed)\n",
      "%6|1734897242.442|FAIL|rdkafka#producer-3| [thrd:ssl://51.161.80.189:9093/bootstrap]: ssl://51.161.80.189:9093/0: Disconnected (after 99858ms in state UP, 1 identical error(s) suppressed)\n"
     ]
    },
    {
     "name": "stdout",
     "output_type": "stream",
     "text": [
      "2024-12-22 20:54:04,716 INFO: Waiting for execution to finish. Current state: AGGREGATING_LOGS. Final status: SUCCEEDED\n",
      "2024-12-22 20:54:04,872 INFO: Waiting for log aggregation to finish.\n",
      "2024-12-22 20:54:20,172 INFO: Execution finished successfully.\n"
     ]
    },
    {
     "ename": "KeyError",
     "evalue": "\"'FeatureGroup' object has no feature called 'customer_id'.\"",
     "output_type": "error",
     "traceback": [
      "\u001b[0;31m---------------------------------------------------------------------------\u001b[0m",
      "\u001b[0;31mKeyError\u001b[0m                                  Traceback (most recent call last)",
      "Cell \u001b[0;32mIn[50], line 2\u001b[0m\n\u001b[1;32m      1\u001b[0m logger\u001b[38;5;241m.\u001b[39minfo(\u001b[38;5;124m\"\u001b[39m\u001b[38;5;124mUploading \u001b[39m\u001b[38;5;124m'\u001b[39m\u001b[38;5;124mranking\u001b[39m\u001b[38;5;124m'\u001b[39m\u001b[38;5;124m Feature Group to Hopsworks.\u001b[39m\u001b[38;5;124m\"\u001b[39m)\n\u001b[0;32m----> 2\u001b[0m rank_fg \u001b[38;5;241m=\u001b[39m \u001b[43mfeature_store\u001b[49m\u001b[38;5;241;43m.\u001b[39;49m\u001b[43mcreate_ranking_feature_group\u001b[49m\u001b[43m(\u001b[49m\n\u001b[1;32m      3\u001b[0m \u001b[43m    \u001b[49m\u001b[43mfs\u001b[49m\u001b[43m,\u001b[49m\n\u001b[1;32m      4\u001b[0m \u001b[43m    \u001b[49m\u001b[43mdf\u001b[49m\u001b[38;5;241;43m=\u001b[39;49m\u001b[43mranking_df\u001b[49m\u001b[43m,\u001b[49m\n\u001b[1;32m      5\u001b[0m \u001b[43m    \u001b[49m\u001b[43mparents\u001b[49m\u001b[38;5;241;43m=\u001b[39;49m\u001b[43m[\u001b[49m\u001b[43martworks_fg\u001b[49m\u001b[43m,\u001b[49m\u001b[43m \u001b[49m\u001b[43musers_fg\u001b[49m\u001b[43m,\u001b[49m\u001b[43m \u001b[49m\u001b[43mtrans_fg\u001b[49m\u001b[43m]\u001b[49m\u001b[43m,\u001b[49m\n\u001b[1;32m      6\u001b[0m \u001b[43m    \u001b[49m\u001b[43monline_enabled\u001b[49m\u001b[38;5;241;43m=\u001b[39;49m\u001b[38;5;28;43;01mFalse\u001b[39;49;00m\n\u001b[1;32m      7\u001b[0m \u001b[43m)\u001b[49m\n\u001b[1;32m      8\u001b[0m logger\u001b[38;5;241m.\u001b[39minfo(\u001b[38;5;124m\"\u001b[39m\u001b[38;5;124m✅ Uploaded \u001b[39m\u001b[38;5;124m'\u001b[39m\u001b[38;5;124mranking\u001b[39m\u001b[38;5;124m'\u001b[39m\u001b[38;5;124m Feature Group to Hopsworks!!\u001b[39m\u001b[38;5;124m\"\u001b[39m)\n",
      "File \u001b[0;32m~/Documents/code/art-recommendations/recsys/hopsworks_integration/feature_store.py:128\u001b[0m, in \u001b[0;36mcreate_ranking_feature_group\u001b[0;34m(fs, df, parents, online_enabled)\u001b[0m\n\u001b[1;32m    125\u001b[0m rank_fg\u001b[38;5;241m.\u001b[39minsert(df, wait\u001b[38;5;241m=\u001b[39m\u001b[38;5;28;01mTrue\u001b[39;00m)\n\u001b[1;32m    127\u001b[0m \u001b[38;5;28;01mfor\u001b[39;00m desc \u001b[38;5;129;01min\u001b[39;00m constants\u001b[38;5;241m.\u001b[39mranking_feature_descriptions:\n\u001b[0;32m--> 128\u001b[0m     \u001b[43mrank_fg\u001b[49m\u001b[38;5;241;43m.\u001b[39;49m\u001b[43mupdate_feature_description\u001b[49m\u001b[43m(\u001b[49m\u001b[43mdesc\u001b[49m\u001b[43m[\u001b[49m\u001b[38;5;124;43m\"\u001b[39;49m\u001b[38;5;124;43mname\u001b[39;49m\u001b[38;5;124;43m\"\u001b[39;49m\u001b[43m]\u001b[49m\u001b[43m,\u001b[49m\u001b[43m \u001b[49m\u001b[43mdesc\u001b[49m\u001b[43m[\u001b[49m\u001b[38;5;124;43m\"\u001b[39;49m\u001b[38;5;124;43mdescription\u001b[39;49m\u001b[38;5;124;43m\"\u001b[39;49m\u001b[43m]\u001b[49m\u001b[43m)\u001b[49m\n\u001b[1;32m    130\u001b[0m \u001b[38;5;28;01mreturn\u001b[39;00m rank_fg\n",
      "File \u001b[0;32m~/Documents/code/art-recommendations/.venv/lib/python3.11/site-packages/hsfs/feature_group.py:974\u001b[0m, in \u001b[0;36mFeatureGroupBase.update_feature_description\u001b[0;34m(self, feature_name, description)\u001b[0m\n\u001b[1;32m    946\u001b[0m \u001b[38;5;28;01mdef\u001b[39;00m \u001b[38;5;21mupdate_feature_description\u001b[39m(\n\u001b[1;32m    947\u001b[0m     \u001b[38;5;28mself\u001b[39m, feature_name: \u001b[38;5;28mstr\u001b[39m, description: \u001b[38;5;28mstr\u001b[39m\n\u001b[1;32m    948\u001b[0m ) \u001b[38;5;241m-\u001b[39m\u001b[38;5;241m>\u001b[39m Union[FeatureGroupBase, FeatureGroup, ExternalFeatureGroup, SpineGroup]:\n\u001b[1;32m    949\u001b[0m \u001b[38;5;250m    \u001b[39m\u001b[38;5;124;03m\"\"\"Update the description of a single feature in this feature group.\u001b[39;00m\n\u001b[1;32m    950\u001b[0m \n\u001b[1;32m    951\u001b[0m \u001b[38;5;124;03m    !!! example\u001b[39;00m\n\u001b[0;32m   (...)\u001b[0m\n\u001b[1;32m    972\u001b[0m \u001b[38;5;124;03m        `FeatureGroup`. The updated feature group object.\u001b[39;00m\n\u001b[1;32m    973\u001b[0m \u001b[38;5;124;03m    \"\"\"\u001b[39;00m\n\u001b[0;32m--> 974\u001b[0m     f_copy \u001b[38;5;241m=\u001b[39m copy\u001b[38;5;241m.\u001b[39mdeepcopy(\u001b[38;5;28;43mself\u001b[39;49m\u001b[43m[\u001b[49m\u001b[43mfeature_name\u001b[49m\u001b[43m]\u001b[49m)\n\u001b[1;32m    975\u001b[0m     f_copy\u001b[38;5;241m.\u001b[39mdescription \u001b[38;5;241m=\u001b[39m description\n\u001b[1;32m    976\u001b[0m     \u001b[38;5;28mself\u001b[39m\u001b[38;5;241m.\u001b[39m_feature_group_engine\u001b[38;5;241m.\u001b[39mupdate_features(\u001b[38;5;28mself\u001b[39m, [f_copy])\n",
      "File \u001b[0;32m~/Documents/code/art-recommendations/.venv/lib/python3.11/site-packages/hsfs/feature_group.py:1756\u001b[0m, in \u001b[0;36mFeatureGroupBase.__getitem__\u001b[0;34m(self, name)\u001b[0m\n\u001b[1;32m   1754\u001b[0m     \u001b[38;5;28;01mreturn\u001b[39;00m feature[\u001b[38;5;241m0\u001b[39m]\n\u001b[1;32m   1755\u001b[0m \u001b[38;5;28;01melse\u001b[39;00m:\n\u001b[0;32m-> 1756\u001b[0m     \u001b[38;5;28;01mraise\u001b[39;00m \u001b[38;5;167;01mKeyError\u001b[39;00m(\u001b[38;5;124mf\u001b[39m\u001b[38;5;124m\"\u001b[39m\u001b[38;5;124m'\u001b[39m\u001b[38;5;124mFeatureGroup\u001b[39m\u001b[38;5;124m'\u001b[39m\u001b[38;5;124m object has no feature called \u001b[39m\u001b[38;5;124m'\u001b[39m\u001b[38;5;132;01m{\u001b[39;00mname\u001b[38;5;132;01m}\u001b[39;00m\u001b[38;5;124m'\u001b[39m\u001b[38;5;124m.\u001b[39m\u001b[38;5;124m\"\u001b[39m)\n",
      "\u001b[0;31mKeyError\u001b[0m: \"'FeatureGroup' object has no feature called 'customer_id'.\""
     ]
    },
    {
     "name": "stderr",
     "output_type": "stream",
     "text": [
      "%6|1734897280.134|FAIL|rdkafka#producer-9| [thrd:ssl://51.161.81.208:9093/bootstrap]: ssl://51.161.81.208:9093/2: Disconnected (after 98917ms in state UP, 1 identical error(s) suppressed)\n",
      "%6|1734897294.200|FAIL|rdkafka#producer-3| [thrd:ssl://51.161.81.188:9093/bootstrap]: ssl://51.161.81.188:9093/1: Disconnected (after 50001ms in state UP, 1 identical error(s) suppressed)\n",
      "%6|1734897295.089|FAIL|rdkafka#producer-3| [thrd:ssl://51.161.80.189:9093/bootstrap]: ssl://51.161.80.189:9093/0: Disconnected (after 50044ms in state UP, 1 identical error(s) suppressed)\n",
      "%6|1734897332.563|FAIL|rdkafka#producer-9| [thrd:ssl://51.161.81.188:9093/bootstrap]: ssl://51.161.81.188:9093/1: Disconnected (after 50066ms in state UP, 1 identical error(s) suppressed)\n",
      "%6|1734897332.779|FAIL|rdkafka#producer-9| [thrd:ssl://51.161.80.189:9093/bootstrap]: ssl://51.161.80.189:9093/0: Disconnected (after 49757ms in state UP, 1 identical error(s) suppressed)\n",
      "%6|1734897345.363|FAIL|rdkafka#producer-3| [thrd:ssl://51.161.81.208:9093/bootstrap]: ssl://51.161.81.208:9093/2: Disconnected (after 99180ms in state UP, 1 identical error(s) suppressed)\n",
      "%6|1734897382.944|FAIL|rdkafka#producer-9| [thrd:ssl://51.161.81.208:9093/bootstrap]: ssl://51.161.81.208:9093/2: Disconnected (after 99605ms in state UP, 1 identical error(s) suppressed)\n",
      "%6|1734897397.089|FAIL|rdkafka#producer-3| [thrd:ssl://51.161.81.188:9093/bootstrap]: ssl://51.161.81.188:9093/1: Disconnected (after 50019ms in state UP, 1 identical error(s) suppressed)\n"
     ]
    }
   ],
   "source": [
    "logger.info(\"Uploading 'ranking' Feature Group to Hopsworks.\")\n",
    "rank_fg = feature_store.create_ranking_feature_group(\n",
    "    fs,\n",
    "    df=ranking_df,\n",
    "    parents=[artworks_fg, users_fg, trans_fg],\n",
    "    online_enabled=False\n",
    ")\n",
    "logger.info(\"✅ Uploaded 'ranking' Feature Group to Hopsworks!!\")"
   ]
  }
 ],
 "metadata": {
  "kernelspec": {
   "display_name": ".venv",
   "language": "python",
   "name": "python3"
  },
  "language_info": {
   "codemirror_mode": {
    "name": "ipython",
    "version": 3
   },
   "file_extension": ".py",
   "mimetype": "text/x-python",
   "name": "python",
   "nbconvert_exporter": "python",
   "pygments_lexer": "ipython3",
   "version": "3.11.8"
  }
 },
 "nbformat": 4,
 "nbformat_minor": 2
}
