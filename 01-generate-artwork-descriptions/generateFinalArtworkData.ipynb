{
 "cells": [
  {
   "cell_type": "code",
   "execution_count": 1,
   "metadata": {},
   "outputs": [],
   "source": [
    "import csv\n",
    "import json\n",
    "import numpy as np\n",
    "import polars as pl"
   ]
  },
  {
   "cell_type": "code",
   "execution_count": 4,
   "metadata": {},
   "outputs": [
    {
     "data": {
      "text/html": [
       "<div><style>\n",
       ".dataframe > thead > tr,\n",
       ".dataframe > tbody > tr {\n",
       "  text-align: right;\n",
       "  white-space: pre-wrap;\n",
       "}\n",
       "</style>\n",
       "<small>shape: (5, 7)</small><table border=\"1\" class=\"dataframe\"><thead><tr><th>id</th><th>title</th><th>category</th><th>thumbnail_link</th><th>artists_link</th><th>genes_link</th><th>similar_link</th></tr><tr><td>str</td><td>str</td><td>str</td><td>str</td><td>str</td><td>str</td><td>str</td></tr></thead><tbody><tr><td>&quot;4d8b92eb4eb68a1b2c000968&quot;</td><td>&quot;Der Kuss (The Kiss)&quot;</td><td>&quot;Painting&quot;</td><td>&quot;https://d32dm0rphc51dk.cloudfr…</td><td>&quot;https://api.artsy.net/api/arti…</td><td>&quot;https://api.artsy.net/api/gene…</td><td>&quot;https://api.artsy.net/api/artw…</td></tr><tr><td>&quot;4d8b92ee4eb68a1b2c0009ab&quot;</td><td>&quot;The Third of May&quot;</td><td>&quot;Painting&quot;</td><td>&quot;https://d32dm0rphc51dk.cloudfr…</td><td>&quot;https://api.artsy.net/api/arti…</td><td>&quot;https://api.artsy.net/api/gene…</td><td>&quot;https://api.artsy.net/api/artw…</td></tr><tr><td>&quot;4d8b93394eb68a1b2c0010fa&quot;</td><td>&quot;The Company of Frans Banning C…</td><td>&quot;Painting&quot;</td><td>&quot;https://d32dm0rphc51dk.cloudfr…</td><td>&quot;https://api.artsy.net/api/arti…</td><td>&quot;https://api.artsy.net/api/gene…</td><td>&quot;https://api.artsy.net/api/artw…</td></tr><tr><td>&quot;4d8b937c4eb68a1b2c001722&quot;</td><td>&quot;Mona Lisa&quot;</td><td>&quot;Painting&quot;</td><td>&quot;https://d32dm0rphc51dk.cloudfr…</td><td>&quot;https://api.artsy.net/api/arti…</td><td>&quot;https://api.artsy.net/api/gene…</td><td>&quot;https://api.artsy.net/api/artw…</td></tr><tr><td>&quot;4d8b93b04eb68a1b2c001b9d&quot;</td><td>&quot;Luncheon on the Grass (Le Déje…</td><td>&quot;Painting&quot;</td><td>&quot;https://d32dm0rphc51dk.cloudfr…</td><td>&quot;https://api.artsy.net/api/arti…</td><td>&quot;https://api.artsy.net/api/gene…</td><td>&quot;https://api.artsy.net/api/artw…</td></tr></tbody></table></div>"
      ],
      "text/plain": [
       "shape: (5, 7)\n",
       "┌──────────────┬──────────────┬──────────┬──────────────┬──────────────┬─────────────┬─────────────┐\n",
       "│ id           ┆ title        ┆ category ┆ thumbnail_li ┆ artists_link ┆ genes_link  ┆ similar_lin │\n",
       "│ ---          ┆ ---          ┆ ---      ┆ nk           ┆ ---          ┆ ---         ┆ k           │\n",
       "│ str          ┆ str          ┆ str      ┆ ---          ┆ str          ┆ str         ┆ ---         │\n",
       "│              ┆              ┆          ┆ str          ┆              ┆             ┆ str         │\n",
       "╞══════════════╪══════════════╪══════════╪══════════════╪══════════════╪═════════════╪═════════════╡\n",
       "│ 4d8b92eb4eb6 ┆ Der Kuss     ┆ Painting ┆ https://d32d ┆ https://api. ┆ https://api ┆ https://api │\n",
       "│ 8a1b2c000968 ┆ (The Kiss)   ┆          ┆ m0rphc51dk.c ┆ artsy.net/ap ┆ .artsy.net/ ┆ .artsy.net/ │\n",
       "│              ┆              ┆          ┆ loudfr…      ┆ i/arti…      ┆ api/gene…   ┆ api/artw…   │\n",
       "│ 4d8b92ee4eb6 ┆ The Third of ┆ Painting ┆ https://d32d ┆ https://api. ┆ https://api ┆ https://api │\n",
       "│ 8a1b2c0009ab ┆ May          ┆          ┆ m0rphc51dk.c ┆ artsy.net/ap ┆ .artsy.net/ ┆ .artsy.net/ │\n",
       "│              ┆              ┆          ┆ loudfr…      ┆ i/arti…      ┆ api/gene…   ┆ api/artw…   │\n",
       "│ 4d8b93394eb6 ┆ The Company  ┆ Painting ┆ https://d32d ┆ https://api. ┆ https://api ┆ https://api │\n",
       "│ 8a1b2c0010fa ┆ of Frans     ┆          ┆ m0rphc51dk.c ┆ artsy.net/ap ┆ .artsy.net/ ┆ .artsy.net/ │\n",
       "│              ┆ Banning C…   ┆          ┆ loudfr…      ┆ i/arti…      ┆ api/gene…   ┆ api/artw…   │\n",
       "│ 4d8b937c4eb6 ┆ Mona Lisa    ┆ Painting ┆ https://d32d ┆ https://api. ┆ https://api ┆ https://api │\n",
       "│ 8a1b2c001722 ┆              ┆          ┆ m0rphc51dk.c ┆ artsy.net/ap ┆ .artsy.net/ ┆ .artsy.net/ │\n",
       "│              ┆              ┆          ┆ loudfr…      ┆ i/arti…      ┆ api/gene…   ┆ api/artw…   │\n",
       "│ 4d8b93b04eb6 ┆ Luncheon on  ┆ Painting ┆ https://d32d ┆ https://api. ┆ https://api ┆ https://api │\n",
       "│ 8a1b2c001b9d ┆ the Grass    ┆          ┆ m0rphc51dk.c ┆ artsy.net/ap ┆ .artsy.net/ ┆ .artsy.net/ │\n",
       "│              ┆ (Le Déje…    ┆          ┆ loudfr…      ┆ i/arti…      ┆ api/gene…   ┆ api/artw…   │\n",
       "└──────────────┴──────────────┴──────────┴──────────────┴──────────────┴─────────────┴─────────────┘"
      ]
     },
     "execution_count": 4,
     "metadata": {},
     "output_type": "execute_result"
    }
   ],
   "source": [
    "artworks_df = pl.read_csv(\"../data/filtered_artworks.csv\")\n",
    "artworks_df.head()"
   ]
  },
  {
   "cell_type": "code",
   "execution_count": 3,
   "metadata": {},
   "outputs": [
    {
     "data": {
      "text/html": [
       "<div><style>\n",
       ".dataframe > thead > tr,\n",
       ".dataframe > tbody > tr {\n",
       "  text-align: right;\n",
       "  white-space: pre-wrap;\n",
       "}\n",
       "</style>\n",
       "<small>shape: (5, 2)</small><table border=\"1\" class=\"dataframe\"><thead><tr><th>id</th><th>description</th></tr><tr><td>str</td><td>str</td></tr></thead><tbody><tr><td>&quot;4d8b92eb4eb68a1b2c000968&quot;</td><td>&quot;The image is rich in golds and…</td></tr><tr><td>&quot;4d8b92ee4eb68a1b2c0009ab&quot;</td><td>&quot;The image features a somber pa…</td></tr><tr><td>&quot;4d8b93394eb68a1b2c0010fa&quot;</td><td>&quot;The image features a rich pale…</td></tr><tr><td>&quot;4d8b937c4eb68a1b2c001722&quot;</td><td>&quot;The image is characterized by …</td></tr><tr><td>&quot;4d8b93b04eb68a1b2c001b9d&quot;</td><td>&quot;The image features a palette o…</td></tr></tbody></table></div>"
      ],
      "text/plain": [
       "shape: (5, 2)\n",
       "┌──────────────────────────┬─────────────────────────────────┐\n",
       "│ id                       ┆ description                     │\n",
       "│ ---                      ┆ ---                             │\n",
       "│ str                      ┆ str                             │\n",
       "╞══════════════════════════╪═════════════════════════════════╡\n",
       "│ 4d8b92eb4eb68a1b2c000968 ┆ The image is rich in golds and… │\n",
       "│ 4d8b92ee4eb68a1b2c0009ab ┆ The image features a somber pa… │\n",
       "│ 4d8b93394eb68a1b2c0010fa ┆ The image features a rich pale… │\n",
       "│ 4d8b937c4eb68a1b2c001722 ┆ The image is characterized by … │\n",
       "│ 4d8b93b04eb68a1b2c001b9d ┆ The image features a palette o… │\n",
       "└──────────────────────────┴─────────────────────────────────┘"
      ]
     },
     "execution_count": 3,
     "metadata": {},
     "output_type": "execute_result"
    }
   ],
   "source": [
    "art_desc_df = pl.read_csv(\"../data/artwork_results.csv\")\n",
    "art_desc_df.head()"
   ]
  },
  {
   "cell_type": "code",
   "execution_count": 10,
   "metadata": {},
   "outputs": [
    {
     "data": {
      "text/html": [
       "<div><style>\n",
       ".dataframe > thead > tr,\n",
       ".dataframe > tbody > tr {\n",
       "  text-align: right;\n",
       "  white-space: pre-wrap;\n",
       "}\n",
       "</style>\n",
       "<small>shape: (5, 8)</small><table border=\"1\" class=\"dataframe\"><thead><tr><th>id</th><th>title</th><th>category</th><th>thumbnail_link</th><th>artists_link</th><th>genes_link</th><th>similar_link</th><th>description</th></tr><tr><td>str</td><td>str</td><td>str</td><td>str</td><td>str</td><td>str</td><td>str</td><td>str</td></tr></thead><tbody><tr><td>&quot;4d8b92eb4eb68a1b2c000968&quot;</td><td>&quot;Der Kuss (The Kiss)&quot;</td><td>&quot;Painting&quot;</td><td>&quot;https://d32dm0rphc51dk.cloudfr…</td><td>&quot;https://api.artsy.net/api/arti…</td><td>&quot;https://api.artsy.net/api/gene…</td><td>&quot;https://api.artsy.net/api/artw…</td><td>&quot;The image is rich in golds and…</td></tr><tr><td>&quot;4d8b92ee4eb68a1b2c0009ab&quot;</td><td>&quot;The Third of May&quot;</td><td>&quot;Painting&quot;</td><td>&quot;https://d32dm0rphc51dk.cloudfr…</td><td>&quot;https://api.artsy.net/api/arti…</td><td>&quot;https://api.artsy.net/api/gene…</td><td>&quot;https://api.artsy.net/api/artw…</td><td>&quot;The image features a somber pa…</td></tr><tr><td>&quot;4d8b93394eb68a1b2c0010fa&quot;</td><td>&quot;The Company of Frans Banning C…</td><td>&quot;Painting&quot;</td><td>&quot;https://d32dm0rphc51dk.cloudfr…</td><td>&quot;https://api.artsy.net/api/arti…</td><td>&quot;https://api.artsy.net/api/gene…</td><td>&quot;https://api.artsy.net/api/artw…</td><td>&quot;The image features a rich pale…</td></tr><tr><td>&quot;4d8b937c4eb68a1b2c001722&quot;</td><td>&quot;Mona Lisa&quot;</td><td>&quot;Painting&quot;</td><td>&quot;https://d32dm0rphc51dk.cloudfr…</td><td>&quot;https://api.artsy.net/api/arti…</td><td>&quot;https://api.artsy.net/api/gene…</td><td>&quot;https://api.artsy.net/api/artw…</td><td>&quot;The image is characterized by …</td></tr><tr><td>&quot;4d8b93b04eb68a1b2c001b9d&quot;</td><td>&quot;Luncheon on the Grass (Le Déje…</td><td>&quot;Painting&quot;</td><td>&quot;https://d32dm0rphc51dk.cloudfr…</td><td>&quot;https://api.artsy.net/api/arti…</td><td>&quot;https://api.artsy.net/api/gene…</td><td>&quot;https://api.artsy.net/api/artw…</td><td>&quot;The image features a palette o…</td></tr></tbody></table></div>"
      ],
      "text/plain": [
       "shape: (5, 8)\n",
       "┌────────────┬────────────┬──────────┬────────────┬────────────┬───────────┬───────────┬───────────┐\n",
       "│ id         ┆ title      ┆ category ┆ thumbnail_ ┆ artists_li ┆ genes_lin ┆ similar_l ┆ descripti │\n",
       "│ ---        ┆ ---        ┆ ---      ┆ link       ┆ nk         ┆ k         ┆ ink       ┆ on        │\n",
       "│ str        ┆ str        ┆ str      ┆ ---        ┆ ---        ┆ ---       ┆ ---       ┆ ---       │\n",
       "│            ┆            ┆          ┆ str        ┆ str        ┆ str       ┆ str       ┆ str       │\n",
       "╞════════════╪════════════╪══════════╪════════════╪════════════╪═══════════╪═══════════╪═══════════╡\n",
       "│ 4d8b92eb4e ┆ Der Kuss   ┆ Painting ┆ https://d3 ┆ https://ap ┆ https://a ┆ https://a ┆ The image │\n",
       "│ b68a1b2c00 ┆ (The Kiss) ┆          ┆ 2dm0rphc51 ┆ i.artsy.ne ┆ pi.artsy. ┆ pi.artsy. ┆ is rich   │\n",
       "│ 0968       ┆            ┆          ┆ dk.cloudfr ┆ t/api/arti ┆ net/api/g ┆ net/api/a ┆ in golds  │\n",
       "│            ┆            ┆          ┆ …          ┆ …          ┆ ene…      ┆ rtw…      ┆ and…      │\n",
       "│ 4d8b92ee4e ┆ The Third  ┆ Painting ┆ https://d3 ┆ https://ap ┆ https://a ┆ https://a ┆ The image │\n",
       "│ b68a1b2c00 ┆ of May     ┆          ┆ 2dm0rphc51 ┆ i.artsy.ne ┆ pi.artsy. ┆ pi.artsy. ┆ features  │\n",
       "│ 09ab       ┆            ┆          ┆ dk.cloudfr ┆ t/api/arti ┆ net/api/g ┆ net/api/a ┆ a somber  │\n",
       "│            ┆            ┆          ┆ …          ┆ …          ┆ ene…      ┆ rtw…      ┆ pa…       │\n",
       "│ 4d8b93394e ┆ The        ┆ Painting ┆ https://d3 ┆ https://ap ┆ https://a ┆ https://a ┆ The image │\n",
       "│ b68a1b2c00 ┆ Company of ┆          ┆ 2dm0rphc51 ┆ i.artsy.ne ┆ pi.artsy. ┆ pi.artsy. ┆ features  │\n",
       "│ 10fa       ┆ Frans      ┆          ┆ dk.cloudfr ┆ t/api/arti ┆ net/api/g ┆ net/api/a ┆ a rich    │\n",
       "│            ┆ Banning C… ┆          ┆ …          ┆ …          ┆ ene…      ┆ rtw…      ┆ pale…     │\n",
       "│ 4d8b937c4e ┆ Mona Lisa  ┆ Painting ┆ https://d3 ┆ https://ap ┆ https://a ┆ https://a ┆ The image │\n",
       "│ b68a1b2c00 ┆            ┆          ┆ 2dm0rphc51 ┆ i.artsy.ne ┆ pi.artsy. ┆ pi.artsy. ┆ is charac │\n",
       "│ 1722       ┆            ┆          ┆ dk.cloudfr ┆ t/api/arti ┆ net/api/g ┆ net/api/a ┆ terized   │\n",
       "│            ┆            ┆          ┆ …          ┆ …          ┆ ene…      ┆ rtw…      ┆ by …      │\n",
       "│ 4d8b93b04e ┆ Luncheon   ┆ Painting ┆ https://d3 ┆ https://ap ┆ https://a ┆ https://a ┆ The image │\n",
       "│ b68a1b2c00 ┆ on the     ┆          ┆ 2dm0rphc51 ┆ i.artsy.ne ┆ pi.artsy. ┆ pi.artsy. ┆ features  │\n",
       "│ 1b9d       ┆ Grass (Le  ┆          ┆ dk.cloudfr ┆ t/api/arti ┆ net/api/g ┆ net/api/a ┆ a palette │\n",
       "│            ┆ Déje…      ┆          ┆ …          ┆ …          ┆ ene…      ┆ rtw…      ┆ o…        │\n",
       "└────────────┴────────────┴──────────┴────────────┴────────────┴───────────┴───────────┴───────────┘"
      ]
     },
     "execution_count": 10,
     "metadata": {},
     "output_type": "execute_result"
    }
   ],
   "source": [
    "merged_df = artworks_df.join(art_desc_df, on=\"id\")\n",
    "merged_df.head()"
   ]
  },
  {
   "cell_type": "code",
   "execution_count": null,
   "metadata": {},
   "outputs": [
    {
     "name": "stdout",
     "output_type": "stream",
     "text": [
      "CSV file saved at: ../data/artworks_info.csv\n"
     ]
    }
   ],
   "source": [
    "csv_file = '../data/artworks_info.csv'\n",
    "\n",
    "\n",
    "# Save to CSV\n",
    "merged_df.write_csv(file=csv_file)\n",
    "print(f\"CSV file saved at: {csv_file}\")\n"
   ]
  }
 ],
 "metadata": {
  "kernelspec": {
   "display_name": ".venv",
   "language": "python",
   "name": "python3"
  },
  "language_info": {
   "codemirror_mode": {
    "name": "ipython",
    "version": 3
   },
   "file_extension": ".py",
   "mimetype": "text/x-python",
   "name": "python",
   "nbconvert_exporter": "python",
   "pygments_lexer": "ipython3",
   "version": "3.11.8"
  }
 },
 "nbformat": 4,
 "nbformat_minor": 2
}
